{
 "cells": [
  {
   "cell_type": "markdown",
   "metadata": {},
   "source": [
    "LSTM\n",
    "=="
   ]
  },
  {
   "cell_type": "code",
   "execution_count": 44,
   "metadata": {},
   "outputs": [],
   "source": [
    "import csv\n",
    "import os\n",
    "from random import shuffle\n",
    "import statistics\n",
    "\n",
    "import matplotlib.pyplot as plt\n",
    "import numpy as np\n",
    "import pandas as pd\n",
    "import torch\n",
    "import torch.nn as nn\n",
    "import torch.optim as optim\n",
    "from sklearn.model_selection import train_test_split"
   ]
  },
  {
   "cell_type": "code",
   "execution_count": 7,
   "metadata": {},
   "outputs": [
    {
     "data": {
      "text/html": [
       "<div>\n",
       "<style scoped>\n",
       "    .dataframe tbody tr th:only-of-type {\n",
       "        vertical-align: middle;\n",
       "    }\n",
       "\n",
       "    .dataframe tbody tr th {\n",
       "        vertical-align: top;\n",
       "    }\n",
       "\n",
       "    .dataframe thead th {\n",
       "        text-align: right;\n",
       "    }\n",
       "</style>\n",
       "<table border=\"1\" class=\"dataframe\">\n",
       "  <thead>\n",
       "    <tr style=\"text-align: right;\">\n",
       "      <th></th>\n",
       "      <th>orthography</th>\n",
       "      <th>phonetic trasncription</th>\n",
       "      <th>gender</th>\n",
       "    </tr>\n",
       "  </thead>\n",
       "  <tbody>\n",
       "    <tr>\n",
       "      <th>0</th>\n",
       "      <td>à-côté</td>\n",
       "      <td>akOte</td>\n",
       "      <td>m</td>\n",
       "    </tr>\n",
       "    <tr>\n",
       "      <th>1</th>\n",
       "      <td>à-coup</td>\n",
       "      <td>aku</td>\n",
       "      <td>m</td>\n",
       "    </tr>\n",
       "    <tr>\n",
       "      <th>2</th>\n",
       "      <td>à-peu-près</td>\n",
       "      <td>apØpʁɛ</td>\n",
       "      <td>m</td>\n",
       "    </tr>\n",
       "    <tr>\n",
       "      <th>3</th>\n",
       "      <td>à-pic</td>\n",
       "      <td>apik</td>\n",
       "      <td>m</td>\n",
       "    </tr>\n",
       "    <tr>\n",
       "      <th>4</th>\n",
       "      <td>à-plat</td>\n",
       "      <td>apla</td>\n",
       "      <td>m</td>\n",
       "    </tr>\n",
       "    <tr>\n",
       "      <th>5</th>\n",
       "      <td>à-propos</td>\n",
       "      <td>apʁOpo</td>\n",
       "      <td>m</td>\n",
       "    </tr>\n",
       "    <tr>\n",
       "      <th>6</th>\n",
       "      <td>à-valoir</td>\n",
       "      <td>avalwaʁ</td>\n",
       "      <td>m</td>\n",
       "    </tr>\n",
       "    <tr>\n",
       "      <th>7</th>\n",
       "      <td>a</td>\n",
       "      <td>a</td>\n",
       "      <td>m</td>\n",
       "    </tr>\n",
       "    <tr>\n",
       "      <th>8</th>\n",
       "      <td>aa</td>\n",
       "      <td>aa</td>\n",
       "      <td>m</td>\n",
       "    </tr>\n",
       "    <tr>\n",
       "      <th>9</th>\n",
       "      <td>abaca</td>\n",
       "      <td>abaka</td>\n",
       "      <td>m</td>\n",
       "    </tr>\n",
       "  </tbody>\n",
       "</table>\n",
       "</div>"
      ],
      "text/plain": [
       "  orthography phonetic trasncription gender\n",
       "0      à-côté                  akOte      m\n",
       "1      à-coup                    aku      m\n",
       "2  à-peu-près                 apØpʁɛ      m\n",
       "3       à-pic                   apik      m\n",
       "4      à-plat                   apla      m\n",
       "5    à-propos                 apʁOpo      m\n",
       "6    à-valoir                avalwaʁ      m\n",
       "7           a                      a      m\n",
       "8          aa                     aa      m\n",
       "9       abaca                  abaka      m"
      ]
     },
     "execution_count": 7,
     "metadata": {},
     "output_type": "execute_result"
    }
   ],
   "source": [
    "filename= '../data/nlexique.csv'\n",
    "df = pd.read_csv(filename)\n",
    "df = df[['lexeme', 'sg', 'gen']].rename(columns={'lexeme': 'orthography', 'sg': 'phonetic trasncription', 'gen': 'gender'})\n",
    "df.head(10)"
   ]
  },
  {
   "cell_type": "code",
   "execution_count": 8,
   "metadata": {},
   "outputs": [],
   "source": [
    "# Datasets with the 'b class\n",
    "orthography_data_3gen = df[['orthography', 'gender']].dropna()\n",
    "phonetic_data_3gen = df[['phonetic trasncription', 'gender']].dropna()"
   ]
  },
  {
   "cell_type": "code",
   "execution_count": 9,
   "metadata": {},
   "outputs": [],
   "source": [
    "# Datasets without the 'b' class\n",
    "orthography_data_2gen = df[df['gender'] != 'b'][['orthography', 'gender']].dropna()\n",
    "phonetic_data_2gen = df[df['gender'] != 'b'][['phonetic trasncription', 'gender']].dropna()"
   ]
  },
  {
   "cell_type": "code",
   "execution_count": 10,
   "metadata": {},
   "outputs": [],
   "source": [
    "def reverse_sequence(noun):\n",
    "    return noun[::-1]\n",
    "\n",
    "def pad_sequence(sequence,pad_size,pad_token):\n",
    "    # returns a list of the characters in the sequence with additional pad tokens to match pad_size if needed\n",
    "    return list(sequence) + [pad_token] * (pad_size - len(sequence))\n",
    "\n",
    "def code_sequence(charseq,encodingmap,unk_token='<unk>'):\n",
    "    # charseq is a sequence of chars\n",
    "    return [encodingmap[char] if char in encodingmap \n",
    "            else encodingmap[unk_token] for char in charseq]\n",
    "\n",
    "def decode_sequence(idxseq,decodingmap):\n",
    "    # idxseq is a list of integers\n",
    "    return [decodingmap[idx] for idx in idxseq]"
   ]
  },
  {
   "cell_type": "code",
   "execution_count": 11,
   "metadata": {},
   "outputs": [],
   "source": [
    "def read_data(filename, reverse_nouns=False):\n",
    "    with open(filename, 'r', encoding='utf-8') as file:\n",
    "        data = [line.strip() for line in file.readlines()]\n",
    "\n",
    "    X, y = [], []\n",
    "    for pair in data:\n",
    "        noun, gender = pair.split(', ')\n",
    "        if reverse_nouns:\n",
    "            noun = reverse_sequence(noun)\n",
    "        noun_chars = [char for char in noun] # split the nouns into characters\n",
    "        X.append(noun_chars)\n",
    "        y.append(gender)\n",
    "    \n",
    "    return X, y"
   ]
  },
  {
   "cell_type": "code",
   "execution_count": 12,
   "metadata": {},
   "outputs": [],
   "source": [
    "# To be used with data frames\n",
    "def get_data_from_df(df, reverse_nouns=False):\n",
    "    nouns = df.iloc[:,0].tolist()\n",
    "    gender = df.iloc[:,1].tolist()   \n",
    "    if reverse_nouns:\n",
    "        nouns = [reverse_sequence(noun) for noun in nouns]\n",
    "    noun_chars = [[char for char in noun] for noun in nouns]\n",
    "    return noun_chars, gender"
   ]
  },
  {
   "cell_type": "code",
   "execution_count": 13,
   "metadata": {},
   "outputs": [],
   "source": [
    "def vocabulary(data, labels=False, pad_token='<pad>', unk_token='<unk>', df=False):\n",
    "    \n",
    "    if df:\n",
    "        nouns, genders = get_data_from_df(data, reverse_nouns=False)\n",
    "    else:\n",
    "        nouns, genders = read_data(data, reverse_nouns=False)\n",
    "    \n",
    "    if labels:\n",
    "        sym2idx = {sym: idx for idx, sym in enumerate(set(genders))}\n",
    "    else:\n",
    "        unique_chars = set(char for noun in nouns for char in noun)\n",
    "        sym2idx = {sym: idx for idx, sym in enumerate(unique_chars)}\n",
    "        sym2idx[unk_token] = len(sym2idx)\n",
    "        sym2idx[pad_token] = len(sym2idx)\n",
    "\n",
    "    idx2sym = [sym for sym in sym2idx.keys()]\n",
    "\n",
    "    return idx2sym, sym2idx"
   ]
  },
  {
   "cell_type": "code",
   "execution_count": 14,
   "metadata": {},
   "outputs": [],
   "source": [
    "def save_padded_words(filename, batch_of_words):\n",
    "    lines = ['\\t'.join(word) + '\\n' for word in batch_of_words]\n",
    "    with open(filename, 'a', encoding='utf-8') as f:\n",
    "        f.writelines(lines)"
   ]
  },
  {
   "cell_type": "code",
   "execution_count": 16,
   "metadata": {},
   "outputs": [],
   "source": [
    "class DataGenerator:\n",
    "\n",
    "      def __init__(self, data, reverse_nouns=False, pad_token='<pad>', unk_token='<unk>', df=False):\n",
    "\n",
    "            self.pad_token = pad_token\n",
    "            self.unk_token = unk_token\n",
    "\n",
    "            self.input_idx2sym,self.input_sym2idx   = vocabulary(data,False,df=df)\n",
    "            self.output_idx2sym,self.output_sym2idx = vocabulary(data,True,df=df)\n",
    "\n",
    "            if df:\n",
    "                nouns, genders = get_data_from_df(data, reverse_nouns=reverse_nouns)\n",
    "            else:\n",
    "                nouns, genders = read_data(data, reverse_nouns=reverse_nouns)\n",
    "            \n",
    "            self.X_train, self.X_test, self.y_train, self.y_test = train_test_split(nouns, genders, test_size=0.2)\n",
    "\n",
    "            self.train_size = len(self.X_train)\n",
    "            self.test_size = len(self.X_test)\n",
    "\n",
    "      def generate_batches(self,batch_size,validation=False):\n",
    "\n",
    "            if validation:\n",
    "                X = self.X_test\n",
    "                y = self.y_test\n",
    "            else:\n",
    "                X = self.X_train\n",
    "                y = self.y_train\n",
    "\n",
    "            assert(len(X) == len(y))\n",
    "\n",
    "            N     = len(X)\n",
    "            idxes = list(range(N))\n",
    "\n",
    "            # Data ordering\n",
    "            shuffle(idxes)\n",
    "            idxes.sort(key=lambda idx: len(X[idx]))\n",
    "\n",
    "            # batch generation\n",
    "            bstart = 0\n",
    "            while bstart < N:\n",
    "                bend        = min(bstart+batch_size,N)\n",
    "                batch_idxes = idxes[bstart:bend]\n",
    "                batch_len   = max(len(X[idx]) for idx in batch_idxes)\n",
    "                Xpad        = [pad_sequence(X[idx],batch_len,self.pad_token) for idx in batch_idxes]\n",
    "                #   save_padded_words('../data/eval/padded_fr', Xpad)\n",
    "                seqX        = [code_sequence(x,self.input_sym2idx,self.unk_token) for x in Xpad]\n",
    "                seqY        = [self.output_sym2idx[y[idx]] for idx in batch_idxes]\n",
    "\n",
    "                assert(len(seqX) == len(seqY))\n",
    "                yield (seqX,seqY)\n",
    "                bstart += batch_size"
   ]
  },
  {
   "cell_type": "markdown",
   "metadata": {},
   "source": [
    "Model\n",
    "=="
   ]
  },
  {
   "cell_type": "markdown",
   "metadata": {},
   "source": [
    "Train the model by feeding it words in reverse order (since we want to start from the end of the word) and the corresponding genders. The model will learn to predict the gender based on the characters seen so far.\n",
    "\n",
    "Takes preprocessed words as input:\n",
    "- tokenized into characters \n",
    "- each character mapped to a unique integer id (same with each gender)\n",
    "- sequences should be padded so they all have the same length"
   ]
  },
  {
   "cell_type": "code",
   "execution_count": 57,
   "metadata": {},
   "outputs": [],
   "source": [
    "class GenderLSTM(nn.Module):\n",
    "\n",
    "    def __init__(self, datagenerator, embedding_dim, hidden_dim, device='cpu'):\n",
    "        super(GenderLSTM, self).__init__()\n",
    "        self.to(device)\n",
    "\n",
    "        invocab_size = len(datagenerator.input_idx2sym)\n",
    "        outvocab_size = len(datagenerator.output_idx2sym)\n",
    "\n",
    "        self.device = torch.device(device)\n",
    "        self.pad_idx = datagenerator.input_sym2idx[datagenerator.pad_token]\n",
    "        self.embedding = nn.Embedding(invocab_size, embedding_dim)\n",
    "        self.lstm = nn.LSTM(embedding_dim, hidden_dim, batch_first=True)\n",
    "        self.fc = nn.Linear(hidden_dim, outvocab_size)\n",
    "        self.softmax = nn.Softmax(dim=-1)\n",
    "\n",
    "\n",
    "    def forward(self, inputs):\n",
    "        embeds = self.embedding(inputs)\n",
    "        \n",
    "        # lstm_out contains the hidden states for each time step in the input sequence for each element in the batch. Shape: [batch_size, sequence_length, hidden_size]\n",
    "        # hidden is the hidden state for the last time step in the input sequence for each element in the batch. Shape: [num_layers(* num_directions which is 1 here), batch_size, hidden_size]\n",
    "        lstm_out, (hidden, _) = self.lstm(embeds)   \n",
    "        \n",
    "        out_logits = self.fc(lstm_out)   # shape: [batch_size, sequence_length, num_classes] --> these will be used to get accuracy values for each time step\n",
    "        \n",
    "        #  taking the last hidden state of the last layer with hidden[-1]\n",
    "        hidden_logits = self.fc(hidden[-1]) # shape: [batch_size, num_classes]  --> these will be used for loss computation\n",
    "\n",
    "        # add softmax to get probability distributions (for easier interpretability)\n",
    "        out_probabilities = self.softmax(out_logits)   # probability distribution over the classes for each character in the sequence \n",
    "        # it would also be a good idea to calibrate the model (dividing c by a value T (tempreture) that is a hyperparameter that can be tuned --> ask Timothee)\n",
    "        return out_probabilities, hidden_logits  \n",
    "\n",
    "\n",
    "    def train_model(self, datagenerator, n_epochs, batch_size, learning_rate=0.001, verbose=True, save_model=True, model_path='../saved_models/GenderLSTM_model.pth'):\n",
    "        criterion = nn.CrossEntropyLoss(ignore_index=self.pad_idx)\n",
    "        optimizer = optim.Adam(self.parameters(), lr=learning_rate)\n",
    "        \n",
    "        train = {'accuracy': [],\n",
    "                 'loss': [],\n",
    "                 'plateau_beg': [], \n",
    "                 'acc_at_plateau_beg': []\n",
    "                 }\n",
    "            \n",
    "        valid = {'accuracy': [],\n",
    "                 'loss': [],\n",
    "                 'plateau_beg': [], \n",
    "                 'acc_at_plateau_beg': []\n",
    "                 }\n",
    "\n",
    "        max_val_acc = 0\n",
    "        patience = 3\n",
    "        counter = 0\n",
    "        \n",
    "        for epoch in range(n_epochs):\n",
    "            \n",
    "            if verbose:\n",
    "                print(f'Epoch: {epoch}')\n",
    "            \n",
    "            epoch_train_accuracies = [] \n",
    "            epoch_valid_accuracies = []\n",
    "            epoch_train_losses = []\n",
    "            epoch_valid_losses = []\n",
    "            train_plateau_indecies = [] # will contain the index of the position at which the accuracy starts to plateau for each batch\n",
    "            valid_plateau_indecies = []\n",
    "            train_plateau_accuracies = []   # will contain the accuracy of the position at which the accuracy starts to plateau for each batch\n",
    "            valid_plateau_accuracies = []\n",
    "\n",
    "            train_char_prediction_probs = {} # will contain the tokens in the training set as keys and lists of 0s or 1s indicating incorrect or correct prediction at each character position in the tokens as values\n",
    "            valid_char_prediction_probs = {} # will contain the tokens in the validation set as keys and lists of 0s or 1s indicating incorrect or correct prediction at each character position in the tokens as values\n",
    "            \n",
    "            # Training phase\n",
    "            self.train()\n",
    "            for inputs, labels in datagenerator.generate_batches(batch_size):\n",
    "                X = torch.LongTensor(inputs).to(self.device) # shape: [batch_size, sequence_length]\n",
    "                Y = torch.LongTensor(labels).to(self.device) # shape: [batch_size]\n",
    "\n",
    "                optimizer.zero_grad()\n",
    "                Y_seq_probs, Y_hidden_logits = self.forward(X)    # shapes: [batch_size, sequence_length, num_classes], [batch_size, num_classes]\n",
    "\n",
    "                # Loss\n",
    "                loss = criterion(Y_hidden_logits, Y)\n",
    "                loss.backward()\n",
    "                optimizer.step()\n",
    "                epoch_train_losses.append(loss.item())\n",
    "\n",
    "                # Accuracy\n",
    "                Y_pred = torch.argmax(Y_hidden_logits, dim=-1)  # shape: [batch_size]\n",
    "                correct = (Y_pred == Y)\n",
    "                avg_batch_accuracy = correct.float().mean()  # scalar\n",
    "                epoch_train_accuracies.append(avg_batch_accuracy)\n",
    "\n",
    "                # Character-level predictions\n",
    "                pad_idx = datagenerator.input_sym2idx[datagenerator.pad_token]\n",
    "                prediction_probs, predictions = torch.max(Y_seq_probs, dim=-1)  # shape: [batch_size, sequence_length]          \n",
    "                for i in range(len(X)):\n",
    "                    word = ''.join([datagenerator.input_idx2sym[idx] for idx in X[i] if idx != pad_idx])\n",
    "                    train_char_prediction_probs[word] = [\n",
    "                        (datagenerator.output_idx2sym[predictions[i, idx].item()], prediction_probs[i, idx].item()) \n",
    "                        for idx in range(len(prediction_probs[i])) if idx != pad_idx\n",
    "                        ]\n",
    "\n",
    "                # Plateau info\n",
    "                plateau_beginning, plateau_confidence = self.get_plateau_info(Y_seq_probs, threshold=0.1, patience=3) \n",
    "                train_plateau_indecies.append(plateau_beginning)\n",
    "                train_plateau_accuracies.append(plateau_confidence)\n",
    "\n",
    "\n",
    "            # Validation phase\n",
    "            self.eval()\n",
    "            for val_inputs, val_labels in datagenerator.generate_batches(batch_size, validation=True):\n",
    "                with torch.no_grad():\n",
    "                    X = torch.LongTensor(val_inputs).to(self.device)\n",
    "                    Y = torch.LongTensor(val_labels).to(self.device)\n",
    "\n",
    "                    Y_seq_probs, Y_hidden_logits = self.forward(X)\n",
    "\n",
    "                    # Loss\n",
    "                    loss = criterion(Y_hidden_logits, Y)\n",
    "                    epoch_valid_losses.append(loss.item())\n",
    "\n",
    "                    # Accuracy\n",
    "                    Y_pred = torch.argmax(Y_hidden_logits, dim=-1)  # shape: [batch_size]\n",
    "                    correct = (Y_pred == Y)\n",
    "                    avg_batch_accuracy = correct.float().mean()  # scalar\n",
    "                    epoch_valid_accuracies.append(avg_batch_accuracy)\n",
    "\n",
    "                    # Character-level predictions\n",
    "                    prediction_probs, predictions = torch.max(Y_seq_probs, dim=-1)  # shape: [batch_size, sequence_length]          \n",
    "                    for i in range(len(X)):\n",
    "                        word = ''.join([datagenerator.input_idx2sym[idx] for idx in X[i] if idx != pad_idx])\n",
    "                        # valid_char_prediction_probs[word] = [prediction_probs[i, idx].item() for idx in range(len(prediction_probs[i])) if idx != pad_idx]\n",
    "                        valid_char_prediction_probs[word] = [\n",
    "                            (datagenerator.output_idx2sym[predictions[i, idx].item()], prediction_probs[i, idx].item()) \n",
    "                            for idx in range(len(prediction_probs[i])) if idx != pad_idx\n",
    "                            ]\n",
    "\n",
    "                    # Plateau info\n",
    "                    plateau_beginning, plateau_confidence = self.get_plateau_info(Y_seq_probs, threshold=0.1, patience=3) \n",
    "                    valid_plateau_indecies.append(plateau_beginning)\n",
    "                    valid_plateau_accuracies.append(plateau_confidence) \n",
    "\n",
    "\n",
    "            # store (and, if verbose is True, report) metrics at the end of each epoch\n",
    "            avg_train_accuracy = sum(epoch_train_accuracies) / len(epoch_train_accuracies)\n",
    "            avg_train_loss = sum(epoch_train_losses) / len(epoch_train_losses)  \n",
    "            train_plateau_beg_mode = statistics.mode(train_plateau_indecies)\n",
    "            train_avg_acc_at_mode_plateau_beg = statistics.mean(\n",
    "                [train_plateau_accuracies[idx].item() for idx, value in enumerate(train_plateau_indecies) if value == train_plateau_beg_mode])                        \n",
    "            \n",
    "            avg_valid_accuracy = sum(epoch_valid_accuracies) / len(epoch_valid_accuracies)\n",
    "            avg_valid_loss = sum(epoch_valid_losses) / len(epoch_valid_losses)\n",
    "            valid_plateau_beg_mode = statistics.mode(valid_plateau_indecies)\n",
    "            valid_avg_acc_at_mode_plateau_beg = statistics.mean(\n",
    "                [valid_plateau_accuracies[idx].item() for idx, value in enumerate(valid_plateau_indecies) if value == valid_plateau_beg_mode])\n",
    "\n",
    "            train['accuracy'].append(avg_train_accuracy)\n",
    "            train['loss'].append(avg_train_loss)\n",
    "            train['plateau_beg'].append(train_plateau_beg_mode)\n",
    "            train['acc_at_plateau_beg'].append(train_avg_acc_at_mode_plateau_beg)\n",
    "            \n",
    "            valid['accuracy'].append(avg_valid_accuracy)\n",
    "            valid['loss'].append(avg_valid_loss)\n",
    "            valid['plateau_beg'].append(valid_plateau_beg_mode)\n",
    "            valid['acc_at_plateau_beg'].append(valid_avg_acc_at_mode_plateau_beg)\n",
    "\n",
    "            if verbose:\n",
    "                print(f'[Train] Loss: {avg_train_loss:.4f}   Accuracy: {avg_train_accuracy * 100:.2f}%   Beginning of plateau (index): {train_plateau_beg_mode}   Accuracy at the beginning of plateau: {train_avg_acc_at_mode_plateau_beg * 100:.2f}%')      \n",
    "                print(f'[Valid] Loss: {avg_valid_loss:.4f}   Accuracy: {avg_valid_accuracy * 100:.2f}%   Beginning of plateau (index): {valid_plateau_beg_mode}   Accuracy at the beginning of plateau: {valid_avg_acc_at_mode_plateau_beg * 100:.2f}%')\n",
    "                print('-' * 100)\n",
    "\n",
    "            # checking for early stopping\n",
    "            if avg_valid_accuracy > max_val_acc:\n",
    "                max_val_acc = avg_valid_accuracy\n",
    "                counter = 0\n",
    "                if save_model:\n",
    "                    # save model checkpoint\n",
    "                    checkpoint = {\n",
    "                        'model_state_dict': self.state_dict(),\n",
    "                        'optimizer_state_dict': optimizer.state_dict(),\n",
    "                        'epoch': epoch,\n",
    "                        'train_accuracy': avg_train_accuracy,\n",
    "                        'train_loss': avg_train_loss,\n",
    "                        'train_plateau_beg': train_plateau_beg_mode,\n",
    "                        'train_acc_at_plateau_beg': train_avg_acc_at_mode_plateau_beg,\n",
    "                        'train_char_prediction_probs': train_char_prediction_probs,\n",
    "                        'valid_accuracy': avg_valid_accuracy,\n",
    "                        'valid_loss': avg_valid_loss,\n",
    "                        'valid_plateau_beg': valid_plateau_beg_mode,\n",
    "                        'valid_acc_at_plateau_beg': valid_avg_acc_at_mode_plateau_beg,\n",
    "                        'valid_char_prediction_probs': valid_char_prediction_probs,\n",
    "                    }\n",
    "                    torch.save(checkpoint, model_path)\n",
    "            else:\n",
    "                counter += 1\n",
    "\n",
    "            if counter == patience:\n",
    "                if verbose:\n",
    "                    print(f'Early stopping after {epoch + 1} epochs and {patience} epochs without improvement.')\n",
    "                break\n",
    "\n",
    "        return train, valid\n",
    "\n",
    "\n",
    "    def predict(self, datagenerator, batch_size):\n",
    "        predictions = {'Word': [], 'Predicted Gender': [], 'True Gender': []}\n",
    "        \n",
    "        self.eval()\n",
    "        for inputs, labels in datagenerator.generate_batches(batch_size, validation=True):\n",
    "            with torch.no_grad():\n",
    "                X = torch.LongTensor(inputs).to(self.device)\n",
    "                Y = torch.LongTensor(labels).to(self.device)\n",
    "\n",
    "                _, logits = self.forward(X)\n",
    "                Y_pred = torch.argmax(logits, dim=-1)\n",
    "\n",
    "                # converting the predictions into readable format\n",
    "                pad_idx = datagenerator.input_sym2idx[datagenerator.pad_token]\n",
    "                for i in range(len(X)):\n",
    "                    predictions['Word'].append(''.join([datagenerator.input_idx2sym[idx] for idx in X[i] if idx != pad_idx]))\n",
    "                    predictions['Predicted Gender'].append(datagenerator.output_idx2sym[Y_pred[i]])\n",
    "                    predictions['True Gender'].append(datagenerator.output_idx2sym[Y[i]])\n",
    "        \n",
    "        return predictions\n",
    "\n",
    "\n",
    "    def get_plateau_info(self, Y_probs, threshold=0.01, patience=3):\n",
    "        prediction_probs, _ = torch.max(Y_probs, dim=-1)  # shape: [batch_size, sequence_length]\n",
    "        avg_pos_confidence = prediction_probs.mean(dim=0) # shows the average confidence in prediction for each character position regardless of whether the prediction is correct or not\n",
    "\n",
    "        # self.plot_confidence_curve(avg_pos_confidence.tolist())\n",
    "        \n",
    "        # if the confidence level doesn't increase by a value higher than the threshold for patience consecutive characters, extract the index and accuracy of the initial position\n",
    "        counter = 0\n",
    "        for position, confidence in enumerate(avg_pos_confidence):\n",
    "            if position == 0: \n",
    "                continue\n",
    "            elif confidence - avg_pos_confidence[position - 1] >= threshold:\n",
    "                counter = 0\n",
    "            elif confidence - avg_pos_confidence[position - 1] < threshold:\n",
    "                counter += 1\n",
    "\n",
    "            if counter == patience:\n",
    "                plateau_beginning = position - patience\n",
    "                plateau_confidence = avg_pos_confidence[position - patience]\n",
    "                return plateau_beginning, plateau_confidence\n",
    "\n",
    "        # if there is no plateau, returns the position and accuracy of the last character\n",
    "        return len(avg_pos_confidence)-1, avg_pos_confidence[-1]\n",
    "    \n",
    "    \n",
    "    def plot_confidence_curve(self, probabilities):\n",
    "        plt.plot(range(len(probabilities)), probabilities, marker='o')\n",
    "        plt.title('Average Prediction Confidence at Each Character Position')\n",
    "        plt.xlabel('Character indecies')\n",
    "        plt.ylabel('Confidence Level')\n",
    "        plt.show()"
   ]
  },
  {
   "cell_type": "code",
   "execution_count": 18,
   "metadata": {},
   "outputs": [],
   "source": [
    "def plot_prediction_curve(word, predictions):\n",
    "    print(f'Prediction and prediction confidence at each character position:\\n  {predictions}')\n",
    "    probabilities = [tup[1] for tup in predictions]\n",
    "    plt.plot(range(len(probabilities)), probabilities)\n",
    "    plt.title(f'Character Position Predictions in \"{word}\"')\n",
    "    plt.xlabel('Character indecies')\n",
    "    plt.ylabel('Confidence Level')\n",
    "    plt.show()\n",
    "\n",
    "\n",
    "def view_plateau(word, model_checkpoint, reverse=False):\n",
    "    \"\"\"\n",
    "    Checks to see if the word exists in the dataset and if so, plots the accuracy at each character position\n",
    "    \"\"\"\n",
    "    if reverse:\n",
    "        word = reverse_sequence(word)\n",
    "\n",
    "    checkpoint = torch.load(model_checkpoint)\n",
    "    train_char_prediction_probs = checkpoint['train_char_prediction_probs']\n",
    "    valid_char_prediction_probs = checkpoint['valid_char_prediction_probs']\n",
    "\n",
    "    if word in train_char_prediction_probs:\n",
    "        print(f'{word} found in the training set.')\n",
    "        plot_prediction_curve(word, train_char_prediction_probs[word])\n",
    "    elif word in valid_char_prediction_probs:\n",
    "        print(f'{word} found in the validation set')\n",
    "        plot_prediction_curve(word, valid_char_prediction_probs[word])\n",
    "    else:\n",
    "        print(f'{word} not found.')\n",
    "        "
   ]
  },
  {
   "cell_type": "code",
   "execution_count": 19,
   "metadata": {},
   "outputs": [],
   "source": [
    "def save_probabilities(model_checkpoint, filename):\n",
    "    checkpoint = torch.load(model_checkpoint)\n",
    "    train = checkpoint['train_char_prediction_probs']\n",
    "    valid = checkpoint['valid_char_prediction_probs']\n",
    "\n",
    "    # Sorting the words in alphabetical order\n",
    "    sorted_train = dict(sorted(train.items()))\n",
    "    sorted_valid = dict(sorted(valid.items()))\n",
    "\n",
    "    with open(filename, 'w', newline='') as file:\n",
    "        writer = csv.writer(file)\n",
    "        for train_word, train_pred_probs in sorted_train.items():\n",
    "            writer.writerow([train_word, train_pred_probs])\n",
    "        for valid_word, valid_pred_probs in sorted_valid.items():\n",
    "            writer.writerow([valid_word, valid_pred_probs])\n",
    "        print(f'File successfully written to {filename}.')"
   ]
  },
  {
   "cell_type": "code",
   "execution_count": 20,
   "metadata": {},
   "outputs": [],
   "source": [
    "def baseline_accuracy(datagenerator, verbose=False):\n",
    "    _, train_labels = list(*datagenerator.generate_batches(datagenerator.train_size, validation=False))\n",
    "    most_frequent_label = max(set(train_labels), key=train_labels.count)   \n",
    "    \n",
    "    if verbose:\n",
    "        print(f'The most frequent label in the dataset is: {datagenerator.output_idx2sym[most_frequent_label]}')\n",
    "\n",
    "    dev_labels = list(*datagenerator.generate_batches(datagenerator.test_size, validation=True))[1]\n",
    "    return dev_labels.count(most_frequent_label) / len(dev_labels)"
   ]
  },
  {
   "cell_type": "code",
   "execution_count": 21,
   "metadata": {},
   "outputs": [],
   "source": [
    "# def plot(train_acc, valid_acc, train_losses, valid_losses, train_max_indices, dev_max_indices):\n",
    "def plot_metrics(train_acc, valid_acc, train_losses, valid_losses):\n",
    "\n",
    "    fig, (ax1, ax2) = plt.subplots(1, 2, figsize=(12, 4))\n",
    "    plt.subplots_adjust(hspace=0.5)\n",
    "\n",
    "    n_epochs = range(1, len(valid_losses) + 1)\n",
    "\n",
    "    # Plot accuracy\n",
    "    ax1.set_title('Accuracy Evolution Over Epochs')\n",
    "    ax1.plot(n_epochs, train_acc, marker='o', color='steelblue', label='Training Accuracy')\n",
    "    ax1.plot(n_epochs, valid_acc, marker='o', color='orange', label='Validation Accuracy')\n",
    "    ax1.set_xlabel('Epochs')\n",
    "    ax1.set_ylabel('Accuracy')\n",
    "    ax1.legend()\n",
    "    ax1.grid(True, linestyle='--')\n",
    "\n",
    "    # Plot loss\n",
    "    ax2.set_title('Loss Evolution Over Epochs')\n",
    "    ax2.plot(n_epochs, train_losses, marker='o', color='steelblue', label='Training Loss')\n",
    "    ax2.plot(n_epochs, valid_losses, marker='o', color='orange', label='Validation Loss')\n",
    "    ax2.set_xlabel('Epochs')\n",
    "    ax2.set_ylabel('Loss')\n",
    "    ax2.legend()\n",
    "    ax2.grid(True, linestyle='--')\n",
    "\n",
    "    plt.show()"
   ]
  },
  {
   "cell_type": "code",
   "execution_count": 22,
   "metadata": {},
   "outputs": [],
   "source": [
    "def compare_accuracies(baseline_acc, model_acc):\n",
    "    \n",
    "    x_labels = ['Baseline', 'Model']\n",
    "    bar_colors = ['#FFDFD3', '#593e67'] # '#957DAD'\n",
    "    bars = plt.bar(x_labels, [baseline_acc, model_acc], width=0.3, color=bar_colors)\n",
    "\n",
    "    for bar in bars:\n",
    "        height = bar.get_height()\n",
    "        plt.text(bar.get_x() + bar.get_width()/2, height, f'{height:.2f}', ha='center', va='bottom')\n",
    "\n",
    "    plt.title('Comparison Between Model Accuracy and Baseline Accuracy (= Most Frequent Class)')\n",
    "    plt.ylabel('Accuracy')\n",
    "    plt.grid(linestyle='dashed')\n",
    "    ax = plt.gca()\n",
    "    ax.set_axisbelow(True)\n",
    "\n",
    "    plt.show()"
   ]
  },
  {
   "cell_type": "code",
   "execution_count": 23,
   "metadata": {},
   "outputs": [],
   "source": [
    "def statistical_check(dataset, hyperparameters, runs=10, reverse_nouns=True, df=False, device='cpu'):\n",
    "    \"\"\"\n",
    "    Returns the accuracy, loss, plateau beginning index, and accuracy at plateau beginning index \n",
    "            averaged over a specified number of runs for both training and validation sets.\n",
    "    \"\"\"\n",
    "    train_loss, train_acc, valid_loss, valid_acc = [], [], [], []\n",
    "    train_idx_plateau_beg, train_acc_plateau_beg, valid_idx_plateau_beg, valid_acc_plateau_beg = [], [], [], []\n",
    "    \n",
    "    embedding_dim = hyperparameters['embed_dim']\n",
    "    hidden_size = hyperparameters['hidden_size']\n",
    "    batch_size = hyperparameters['batch_size']\n",
    "    n_epochs = hyperparameters['n_epochs']\n",
    "    lr = hyperparameters['lr']\n",
    "\n",
    "    for _ in range(runs):\n",
    "        data_generator = DataGenerator(dataset, reverse_nouns=reverse_nouns, df=df)\n",
    "        model = GenderLSTM(data_generator, embedding_dim, hidden_size, device=device)\n",
    "        train, val = model.train_model(data_generator, n_epochs, batch_size, lr, verbose=False, save_model=False)\n",
    "        \n",
    "        train_loss.append(train['loss'][-1])\n",
    "        train_acc.append(train['accuracy'][-1])\n",
    "        valid_loss.append(val['loss'][-1])\n",
    "        valid_acc.append(val['accuracy'][-1])\n",
    "\n",
    "        train_idx_plateau_beg.append(train['plateau_beg'][-1])\n",
    "        train_acc_plateau_beg.append(train['acc_at_plateau_beg'][-1])\n",
    "        valid_idx_plateau_beg.append(val['plateau_beg'][-1])\n",
    "        valid_acc_plateau_beg.append(val['acc_at_plateau_beg'][-1])\n",
    "\n",
    "\n",
    "    t = {'avg_accuracy': sum(train_acc) / len(train_acc),\n",
    "         'avg_loss': sum(train_loss) / len(train_loss),\n",
    "         'avg_plateau_beg': int(sum(train_idx_plateau_beg) / len(train_idx_plateau_beg)), \n",
    "         'avg_acc_at_plateau_beg': sum(train_acc_plateau_beg) / len(train_acc_plateau_beg)\n",
    "        }\n",
    "            \n",
    "    v = {'avg_accuracy': sum(valid_acc) / len(valid_acc),\n",
    "         'avg_loss': sum(valid_loss) / len(valid_loss),\n",
    "         'avg_plateau_beg': int(sum(valid_idx_plateau_beg) / len(valid_idx_plateau_beg)), \n",
    "         'avg_acc_at_plateau_beg': sum(valid_acc_plateau_beg) / len(valid_acc_plateau_beg)\n",
    "        }\n",
    "\n",
    "    print(f\"Avg Train Loss: {t['avg_loss']:.4f}   Avg Train Accuracy: {t['avg_accuracy'] * 100:.2f}%   Avg Plateau Beginning (index): {t['avg_plateau_beg']}   Avg Plateau Beginning Accuracy: {t['avg_acc_at_plateau_beg'] * 100:.2f}%\")      \n",
    "    print(f\"Avg Valid Loss: {v['avg_loss']:.4f}   Avg Valid Accuracy: {v['avg_accuracy'] * 100:.2f}%   Avg Plateau Beginning (index): {v['avg_plateau_beg']}   Avg Plateau Beginning Accuracy: {v['avg_acc_at_plateau_beg'] * 100:.2f}%\")\n",
    "\n",
    "    return t, v"
   ]
  },
  {
   "cell_type": "markdown",
   "metadata": {},
   "source": [
    "### Hyperparameters\n"
   ]
  },
  {
   "cell_type": "code",
   "execution_count": 24,
   "metadata": {},
   "outputs": [],
   "source": [
    "DEVICE = torch.device('cuda' if torch.cuda.is_available() else 'cpu')\n",
    "embedding_dim = 128\n",
    "hidden_size = 256\n",
    "batch_size = 64\n",
    "n_epochs = 20\n",
    "lr = 0.001"
   ]
  },
  {
   "cell_type": "markdown",
   "metadata": {},
   "source": [
    "### Orthographic Form (3 classes)"
   ]
  },
  {
   "cell_type": "code",
   "execution_count": 58,
   "metadata": {},
   "outputs": [
    {
     "name": "stdout",
     "output_type": "stream",
     "text": [
      "Epoch: 0\n",
      "[Train] Loss: 0.4342   Accuracy: 84.49%   Beginning of plateau (index): 2   Accuracy at the beginning of plateau: 68.74%\n",
      "[Valid] Loss: 0.5030   Accuracy: 83.59%   Beginning of plateau (index): 2   Accuracy at the beginning of plateau: 70.20%\n",
      "----------------------------------------------------------------------------------------------------\n",
      "Epoch: 1\n",
      "[Train] Loss: 0.3472   Accuracy: 87.42%   Beginning of plateau (index): 1   Accuracy at the beginning of plateau: 63.37%\n",
      "[Valid] Loss: 0.3754   Accuracy: 86.93%   Beginning of plateau (index): 2   Accuracy at the beginning of plateau: 71.90%\n",
      "----------------------------------------------------------------------------------------------------\n",
      "Epoch: 2\n",
      "[Train] Loss: 0.3161   Accuracy: 88.53%   Beginning of plateau (index): 1   Accuracy at the beginning of plateau: 64.69%\n",
      "[Valid] Loss: 0.3573   Accuracy: 87.54%   Beginning of plateau (index): 1   Accuracy at the beginning of plateau: 64.77%\n",
      "----------------------------------------------------------------------------------------------------\n",
      "Epoch: 3\n",
      "[Train] Loss: 0.2983   Accuracy: 89.24%   Beginning of plateau (index): 1   Accuracy at the beginning of plateau: 63.77%\n",
      "[Valid] Loss: 0.3579   Accuracy: 87.61%   Beginning of plateau (index): 1   Accuracy at the beginning of plateau: 64.57%\n",
      "----------------------------------------------------------------------------------------------------\n",
      "Epoch: 4\n",
      "[Train] Loss: 0.2810   Accuracy: 89.93%   Beginning of plateau (index): 1   Accuracy at the beginning of plateau: 66.35%\n",
      "[Valid] Loss: 0.3441   Accuracy: 88.14%   Beginning of plateau (index): 1   Accuracy at the beginning of plateau: 66.41%\n",
      "----------------------------------------------------------------------------------------------------\n",
      "Epoch: 5\n",
      "[Train] Loss: 0.2598   Accuracy: 90.66%   Beginning of plateau (index): 1   Accuracy at the beginning of plateau: 67.31%\n",
      "[Valid] Loss: 0.3519   Accuracy: 88.13%   Beginning of plateau (index): 1   Accuracy at the beginning of plateau: 67.96%\n",
      "----------------------------------------------------------------------------------------------------\n",
      "Epoch: 6\n",
      "[Train] Loss: 0.2370   Accuracy: 91.42%   Beginning of plateau (index): 1   Accuracy at the beginning of plateau: 69.42%\n",
      "[Valid] Loss: 0.3619   Accuracy: 88.16%   Beginning of plateau (index): 1   Accuracy at the beginning of plateau: 70.47%\n",
      "----------------------------------------------------------------------------------------------------\n",
      "Epoch: 7\n",
      "[Train] Loss: 0.2099   Accuracy: 92.37%   Beginning of plateau (index): 1   Accuracy at the beginning of plateau: 72.54%\n",
      "[Valid] Loss: 0.3698   Accuracy: 88.03%   Beginning of plateau (index): 1   Accuracy at the beginning of plateau: 74.30%\n",
      "----------------------------------------------------------------------------------------------------\n",
      "Epoch: 8\n",
      "[Train] Loss: 0.1798   Accuracy: 93.37%   Beginning of plateau (index): 1   Accuracy at the beginning of plateau: 74.47%\n",
      "[Valid] Loss: 0.3948   Accuracy: 87.98%   Beginning of plateau (index): 1   Accuracy at the beginning of plateau: 75.84%\n",
      "----------------------------------------------------------------------------------------------------\n",
      "Epoch: 9\n",
      "[Train] Loss: 0.1437   Accuracy: 94.86%   Beginning of plateau (index): 1   Accuracy at the beginning of plateau: 78.40%\n",
      "[Valid] Loss: 0.4323   Accuracy: 87.77%   Beginning of plateau (index): 1   Accuracy at the beginning of plateau: 81.08%\n",
      "----------------------------------------------------------------------------------------------------\n",
      "Early stopping after 10 epochs and 3 epochs without improvement.\n"
     ]
    }
   ],
   "source": [
    "or3_data_generator = DataGenerator(orthography_data_3gen, reverse_nouns=True, df=True)\n",
    "or3_model = GenderLSTM(or3_data_generator, embedding_dim, hidden_size, device=DEVICE)\n",
    "or3_train, or3_valid = or3_model.train_model(or3_data_generator, n_epochs, batch_size, lr, model_path='../saved_models/orthography_3gen.pth')"
   ]
  },
  {
   "cell_type": "code",
   "execution_count": 64,
   "metadata": {},
   "outputs": [
    {
     "data": {
      "text/html": [
       "<div>\n",
       "<style scoped>\n",
       "    .dataframe tbody tr th:only-of-type {\n",
       "        vertical-align: middle;\n",
       "    }\n",
       "\n",
       "    .dataframe tbody tr th {\n",
       "        vertical-align: top;\n",
       "    }\n",
       "\n",
       "    .dataframe thead th {\n",
       "        text-align: right;\n",
       "    }\n",
       "</style>\n",
       "<table border=\"1\" class=\"dataframe\">\n",
       "  <thead>\n",
       "    <tr style=\"text-align: right;\">\n",
       "      <th></th>\n",
       "      <th>Word</th>\n",
       "      <th>Predicted Gender</th>\n",
       "      <th>True Gender</th>\n",
       "    </tr>\n",
       "  </thead>\n",
       "  <tbody>\n",
       "    <tr>\n",
       "      <th>0</th>\n",
       "      <td>og</td>\n",
       "      <td>m</td>\n",
       "      <td>m</td>\n",
       "    </tr>\n",
       "    <tr>\n",
       "      <th>1</th>\n",
       "      <td>yf</td>\n",
       "      <td>m</td>\n",
       "      <td>m</td>\n",
       "    </tr>\n",
       "    <tr>\n",
       "      <th>2</th>\n",
       "      <td>nm</td>\n",
       "      <td>m</td>\n",
       "      <td>m</td>\n",
       "    </tr>\n",
       "    <tr>\n",
       "      <th>3</th>\n",
       "      <td>ro</td>\n",
       "      <td>m</td>\n",
       "      <td>m</td>\n",
       "    </tr>\n",
       "    <tr>\n",
       "      <th>4</th>\n",
       "      <td>ét</td>\n",
       "      <td>m</td>\n",
       "      <td>m</td>\n",
       "    </tr>\n",
       "    <tr>\n",
       "      <th>...</th>\n",
       "      <td>...</td>\n",
       "      <td>...</td>\n",
       "      <td>...</td>\n",
       "    </tr>\n",
       "    <tr>\n",
       "      <th>6196</th>\n",
       "      <td>elcno-dnarg-erèirra</td>\n",
       "      <td>f</td>\n",
       "      <td>m</td>\n",
       "    </tr>\n",
       "    <tr>\n",
       "      <th>6197</th>\n",
       "      <td>ecèin-etitep-erèirra</td>\n",
       "      <td>f</td>\n",
       "      <td>f</td>\n",
       "    </tr>\n",
       "    <tr>\n",
       "      <th>6198</th>\n",
       "      <td>noitacifitreséd-isauq</td>\n",
       "      <td>f</td>\n",
       "      <td>f</td>\n",
       "    </tr>\n",
       "    <tr>\n",
       "      <th>6199</th>\n",
       "      <td>ruelliuortap-reitulahc</td>\n",
       "      <td>m</td>\n",
       "      <td>m</td>\n",
       "    </tr>\n",
       "    <tr>\n",
       "      <th>6200</th>\n",
       "      <td>eihpargolahpécneortcelé</td>\n",
       "      <td>f</td>\n",
       "      <td>f</td>\n",
       "    </tr>\n",
       "  </tbody>\n",
       "</table>\n",
       "<p>6201 rows × 3 columns</p>\n",
       "</div>"
      ],
      "text/plain": [
       "                         Word Predicted Gender True Gender\n",
       "0                          og                m           m\n",
       "1                          yf                m           m\n",
       "2                          nm                m           m\n",
       "3                          ro                m           m\n",
       "4                          ét                m           m\n",
       "...                       ...              ...         ...\n",
       "6196      elcno-dnarg-erèirra                f           m\n",
       "6197     ecèin-etitep-erèirra                f           f\n",
       "6198    noitacifitreséd-isauq                f           f\n",
       "6199   ruelliuortap-reitulahc                m           m\n",
       "6200  eihpargolahpécneortcelé                f           f\n",
       "\n",
       "[6201 rows x 3 columns]"
      ]
     },
     "execution_count": 64,
     "metadata": {},
     "output_type": "execute_result"
    }
   ],
   "source": [
    "or3_predictions = or3_model.predict(or3_data_generator, batch_size)\n",
    "or3_predictions_df = pd.DataFrame(or3_predictions)\n",
    "or3_predictions_df"
   ]
  },
  {
   "cell_type": "code",
   "execution_count": 65,
   "metadata": {},
   "outputs": [
    {
     "data": {
      "image/png": "[encoded data removed]",
      "text/plain": [
       "<Figure size 1200x400 with 2 Axes>"
      ]
     },
     "metadata": {},
     "output_type": "display_data"
    }
   ],
   "source": [
    "# plot(model.train_max_accuracies, model.valid_max_accuracies, model.avg_train_losses, model.avg_valid_losses, model.train_max_indecies, model.valid_max_indecies)\n",
    "plot_metrics(or3_train['accuracy'], or3_valid['accuracy'], or3_train['loss'], or3_valid['loss'])"
   ]
  },
  {
   "cell_type": "code",
   "execution_count": 66,
   "metadata": {},
   "outputs": [
    {
     "name": "stdout",
     "output_type": "stream",
     "text": [
      "The most frequent label in the dataset is: m\n"
     ]
    },
    {
     "data": {
      "image/png": "[encoded data removed]",
      "text/plain": [
       "<Figure size 640x480 with 1 Axes>"
      ]
     },
     "metadata": {},
     "output_type": "display_data"
    }
   ],
   "source": [
    "baseline_acc = baseline_accuracy(or3_data_generator, verbose=True)\n",
    "\n",
    "compare_accuracies(baseline_acc, or3_valid['accuracy'][-1])"
   ]
  },
  {
   "cell_type": "code",
   "execution_count": 67,
   "metadata": {},
   "outputs": [
    {
     "name": "stdout",
     "output_type": "stream",
     "text": [
      "word: affiliée\n",
      "eéiliffa found in the training set.\n",
      "Prediction and prediction confidence at each character position:\n",
      "  [('b', 0.4564337730407715), ('m', 0.48508983850479126), ('f', 0.7483231425285339), ('f', 0.9789639711380005), ('f', 0.9525856971740723), ('f', 0.9967136383056641), ('f', 0.9967918992042542), ('f', 0.9983643889427185)]\n"
     ]
    },
    {
     "data": {
      "image/png": "[encoded data removed]",
      "text/plain": [
       "<Figure size 640x480 with 1 Axes>"
      ]
     },
     "metadata": {},
     "output_type": "display_data"
    }
   ],
   "source": [
    "word_0 = orthography_data_3gen['orthography'][0]   # 'à-côté'\n",
    "word_1 = orthography_data_3gen['orthography'][50]  # 'ablution'\n",
    "word_2 = orthography_data_3gen['orthography'][100] # 'abside'      \n",
    "word_3 = orthography_data_3gen['orthography'][150] # 'accessoire'\n",
    "word_4 = orthography_data_3gen['orthography'][200] # 'accu'\n",
    "word_5 = orthography_data_3gen['orthography'][250] # 'acquiescement'\n",
    "word_6 = orthography_data_3gen['orthography'][300] # 'addendum'\n",
    "word_7 = orthography_data_3gen['orthography'][350] # 'admonition'\n",
    "word_8 = orthography_data_3gen['orthography'][400] # 'aéroglisseur'\n",
    "word_9 = orthography_data_3gen['orthography'][450] # 'affiliée'\n",
    "\n",
    "print(f'word: {word_9}')\n",
    "view_plateau(word_9, '../saved_models/orthography_3gen.pth', reverse=True)"
   ]
  },
  {
   "cell_type": "code",
   "execution_count": 63,
   "metadata": {},
   "outputs": [
    {
     "name": "stdout",
     "output_type": "stream",
     "text": [
      "File successfully written to ../results/orthography_3gen.csv.\n"
     ]
    }
   ],
   "source": [
    "save_probabilities('../saved_models/orthography_3gen.pth', '../results/orthography_3gen.csv')"
   ]
  },
  {
   "cell_type": "code",
   "execution_count": 69,
   "metadata": {},
   "outputs": [
    {
     "name": "stdout",
     "output_type": "stream",
     "text": [
      "Avg Train Loss: 0.1348   Avg Train Accuracy: 95.23%   Avg Plateau Beginning (index): 0   Avg Plateau Beginning Accuracy: 75.60%\n",
      "Avg Valid Loss: 0.4465   Avg Valid Accuracy: 88.31%   Avg Plateau Beginning (index): 0   Avg Plateau Beginning Accuracy: 78.86%\n"
     ]
    }
   ],
   "source": [
    "hyperparameters = {'embed_dim': 128,\n",
    "                   'hidden_size': 256,\n",
    "                   'batch_size': 64,\n",
    "                   'n_epochs': 20,\n",
    "                   'lr': 0.001}\n",
    "\n",
    "# Averaging results over 10 runs\n",
    "or3_t, or3_v = statistical_check(orthography_data_3gen, hyperparameters, runs=10, reverse_nouns=True, df=True, device=DEVICE)"
   ]
  },
  {
   "cell_type": "markdown",
   "metadata": {},
   "source": [
    "### Phonetic Form (3 classes)"
   ]
  },
  {
   "cell_type": "code",
   "execution_count": null,
   "metadata": {},
   "outputs": [],
   "source": [
    "ph3_data_generator = DataGenerator(phonetic_data_3gen, reverse_nouns=True, df=True)\n",
    "ph3_model = GenderLSTM(ph3_data_generator, embedding_dim, hidden_size, device=DEVICE)\n",
    "ph3_train, ph3_valid = ph3_model.train_model(ph3_data_generator, n_epochs, batch_size, lr, model_path='../saved_models/phonetic_3gen.pth')"
   ]
  },
  {
   "cell_type": "code",
   "execution_count": null,
   "metadata": {},
   "outputs": [],
   "source": [
    "ph3_predictions = ph3_model.predict(ph3_data_generator, batch_size)\n",
    "ph3_predictions_df = pd.DataFrame(ph3_predictions)\n",
    "ph3_predictions_df"
   ]
  },
  {
   "cell_type": "code",
   "execution_count": null,
   "metadata": {},
   "outputs": [],
   "source": [
    "plot_metrics(ph3_train['accuracy'], ph3_valid['accuracy'], ph3_train['loss'], ph3_valid['loss'])"
   ]
  },
  {
   "cell_type": "code",
   "execution_count": null,
   "metadata": {},
   "outputs": [],
   "source": [
    "baseline_acc = baseline_accuracy(ph3_data_generator, verbose=True)\n",
    "\n",
    "compare_accuracies(baseline_acc, ph3_valid['accuracy'][-1])"
   ]
  },
  {
   "cell_type": "code",
   "execution_count": null,
   "metadata": {},
   "outputs": [],
   "source": [
    "# Averaging results over 10 runs\n",
    "ph3_t, ph3_v = statistical_check(phonetic_data_3gen, hyperparameters, runs=10, device=DEVICE)"
   ]
  },
  {
   "cell_type": "code",
   "execution_count": null,
   "metadata": {},
   "outputs": [],
   "source": [
    "word_9 = phonetic_data_3gen['phonetic trasncription'][450] # 'affiliée'\n",
    "\n",
    "print(f'word: {word_9}')\n",
    "view_plateau(word_9, '../saved_models/phonetic_3gen.pth', reverse=True)"
   ]
  },
  {
   "cell_type": "code",
   "execution_count": null,
   "metadata": {},
   "outputs": [],
   "source": [
    "save_probabilities('../saved_models/phonetic_3gen.pth', '../results/phonetic_3gen.csv')"
   ]
  },
  {
   "cell_type": "markdown",
   "metadata": {},
   "source": [
    "### Orthographic Form (binary)"
   ]
  },
  {
   "cell_type": "code",
   "execution_count": null,
   "metadata": {},
   "outputs": [],
   "source": [
    "or2_data_generator = DataGenerator(orthography_data_2gen, reverse_nouns=True, df=True)\n",
    "or2_model = GenderLSTM(or2_data_generator, embedding_dim, hidden_size, device=DEVICE)\n",
    "or2_train, or2_valid = or2_model.train_model(or2_data_generator, n_epochs, batch_size, lr, model_path='../saved_models/orthography_2gen.pth')"
   ]
  },
  {
   "cell_type": "code",
   "execution_count": null,
   "metadata": {},
   "outputs": [],
   "source": [
    "or2_predictions = or2_model.predict(or2_data_generator, batch_size)\n",
    "or2_predictions_df = pd.DataFrame(or2_predictions)\n",
    "or2_predictions_df"
   ]
  },
  {
   "cell_type": "code",
   "execution_count": null,
   "metadata": {},
   "outputs": [],
   "source": [
    "plot_metrics(or2_train['accuracy'], or2_valid['accuracy'], or2_train['loss'], or2_valid['loss'])"
   ]
  },
  {
   "cell_type": "code",
   "execution_count": null,
   "metadata": {},
   "outputs": [],
   "source": [
    "baseline_acc = baseline_accuracy(or2_data_generator, verbose=True)\n",
    "\n",
    "compare_accuracies(baseline_acc, or2_valid['accuracy'][-1])"
   ]
  },
  {
   "cell_type": "code",
   "execution_count": null,
   "metadata": {},
   "outputs": [],
   "source": [
    "# Averaging results over 10 runs\n",
    "or2_t, or2_v = statistical_check(orthography_data_2gen, hyperparameters, runs=10, device=DEVICE)"
   ]
  },
  {
   "cell_type": "markdown",
   "metadata": {},
   "source": [
    "### Phonetic Form (binary)"
   ]
  },
  {
   "cell_type": "code",
   "execution_count": null,
   "metadata": {},
   "outputs": [],
   "source": [
    "ph2_data_generator = DataGenerator(phonetic_data_2gen, reverse_nouns=True, df=True)\n",
    "ph2_model = GenderLSTM(ph2_data_generator, embedding_dim, hidden_size, device=DEVICE)\n",
    "ph2_train, ph2_valid = ph2_model.train_model(ph2_data_generator, n_epochs, batch_size, lr, model_path='../saved_models/phonetic_2gen.pth')"
   ]
  },
  {
   "cell_type": "code",
   "execution_count": null,
   "metadata": {},
   "outputs": [],
   "source": [
    "ph2_predictions = ph2_model.predict(ph2_data_generator, batch_size)\n",
    "ph2_predictions_df = pd.DataFrame(ph2_predictions)\n",
    "ph2_predictions_df"
   ]
  },
  {
   "cell_type": "code",
   "execution_count": null,
   "metadata": {},
   "outputs": [],
   "source": [
    "plot_metrics(ph2_train['accuracy'], ph2_valid['accuracy'], ph2_train['loss'], ph2_valid['loss'])"
   ]
  },
  {
   "cell_type": "code",
   "execution_count": null,
   "metadata": {},
   "outputs": [],
   "source": [
    "baseline_acc = baseline_accuracy(ph2_data_generator, verbose=True)\n",
    "\n",
    "compare_accuracies(baseline_acc, ph2_valid['accuracy'][-1])"
   ]
  },
  {
   "cell_type": "code",
   "execution_count": null,
   "metadata": {},
   "outputs": [],
   "source": [
    "# Averaging results over 10 runs\n",
    "ph2_t, ph2_v = statistical_check(phonetic_data_2gen, hyperparameters, runs=10, device=DEVICE)"
   ]
  },
  {
   "cell_type": "code",
   "execution_count": 169,
   "metadata": {},
   "outputs": [
    {
     "data": {
      "text/html": [
       "<div>\n",
       "<style scoped>\n",
       "    .dataframe tbody tr th:only-of-type {\n",
       "        vertical-align: middle;\n",
       "    }\n",
       "\n",
       "    .dataframe tbody tr th {\n",
       "        vertical-align: top;\n",
       "    }\n",
       "\n",
       "    .dataframe thead th {\n",
       "        text-align: right;\n",
       "    }\n",
       "</style>\n",
       "<table border=\"1\" class=\"dataframe\">\n",
       "  <thead>\n",
       "    <tr style=\"text-align: right;\">\n",
       "      <th></th>\n",
       "      <th>Orthographic Form (M/F/B)</th>\n",
       "      <th>Phonetic Form (M/F/B)</th>\n",
       "      <th>Orthographic Form (M/F)</th>\n",
       "      <th>Phonetic Form (M/F)</th>\n",
       "    </tr>\n",
       "  </thead>\n",
       "  <tbody>\n",
       "    <tr>\n",
       "      <th>Training Accuracy</th>\n",
       "      <td>94.76%</td>\n",
       "      <td>88.09%</td>\n",
       "      <td>97.69%</td>\n",
       "      <td>91.45%</td>\n",
       "    </tr>\n",
       "    <tr>\n",
       "      <th>Validation Accuracy</th>\n",
       "      <td>88.06%</td>\n",
       "      <td>81.26%</td>\n",
       "      <td>91.07%</td>\n",
       "      <td>83.16%</td>\n",
       "    </tr>\n",
       "  </tbody>\n",
       "</table>\n",
       "</div>"
      ],
      "text/plain": [
       "                    Orthographic Form (M/F/B) Phonetic Form (M/F/B)  \\\n",
       "Training Accuracy                      94.76%                88.09%   \n",
       "Validation Accuracy                    88.06%                81.26%   \n",
       "\n",
       "                    Orthographic Form (M/F) Phonetic Form (M/F)  \n",
       "Training Accuracy                    97.69%              91.45%  \n",
       "Validation Accuracy                  91.07%              83.16%  "
      ]
     },
     "execution_count": 169,
     "metadata": {},
     "output_type": "execute_result"
    }
   ],
   "source": [
    "data = {'Orthographic Form (M/F/B)': [f\"{(or3_t['avg_accuracy'].item() * 100):.2f}%\", f\"{(or3_v['avg_accuracy'].item() * 100):.2f}%\"],\n",
    "        'Phonetic Form (M/F/B)': [f\"{(ph3_t['avg_accuracy'].item() * 100):.2f}%\", f\"{(ph3_v['avg_accuracy'].item() * 100):.2f}%\"],\n",
    "        'Orthographic Form (M/F)': [f\"{(or2_t['avg_accuracy'].item() * 100):.2f}%\", f\"{(or2_v['avg_accuracy'].item() * 100):.2f}%\"], \n",
    "        'Phonetic Form (M/F)': [f\"{(ph2_t['avg_accuracy'].item() * 100):.2f}%\", f\"{(ph2_v['avg_accuracy'].item() * 100):.2f}%\"]}\n",
    "\n",
    "accuracy_results = pd.DataFrame(data).rename(index={0:'Training Accuracy', 1: 'Validation Accuracy'})\n",
    "accuracy_results"
   ]
  },
  {
   "cell_type": "code",
   "execution_count": 170,
   "metadata": {},
   "outputs": [
    {
     "data": {
      "text/plain": [
       "{'avg_accuracy': tensor(0.9476),\n",
       " 'avg_loss': 0.14588457543511527,\n",
       " 'avg_plateau_beg': 6,\n",
       " 'avg_acc_at_plateau_beg': tensor(0.8656)}"
      ]
     },
     "execution_count": 170,
     "metadata": {},
     "output_type": "execute_result"
    }
   ],
   "source": [
    "or3_t"
   ]
  },
  {
   "cell_type": "code",
   "execution_count": 173,
   "metadata": {},
   "outputs": [
    {
     "data": {
      "text/html": [
       "<div>\n",
       "<style scoped>\n",
       "    .dataframe tbody tr th:only-of-type {\n",
       "        vertical-align: middle;\n",
       "    }\n",
       "\n",
       "    .dataframe tbody tr th {\n",
       "        vertical-align: top;\n",
       "    }\n",
       "\n",
       "    .dataframe thead th {\n",
       "        text-align: right;\n",
       "    }\n",
       "</style>\n",
       "<table border=\"1\" class=\"dataframe\">\n",
       "  <thead>\n",
       "    <tr style=\"text-align: right;\">\n",
       "      <th></th>\n",
       "      <th>Orthographic Form</th>\n",
       "      <th>Phonetic Form</th>\n",
       "    </tr>\n",
       "  </thead>\n",
       "  <tbody>\n",
       "    <tr>\n",
       "      <th>Training Set</th>\n",
       "      <td>6</td>\n",
       "      <td>5</td>\n",
       "    </tr>\n",
       "    <tr>\n",
       "      <th>Validation Set</th>\n",
       "      <td>6</td>\n",
       "      <td>4</td>\n",
       "    </tr>\n",
       "  </tbody>\n",
       "</table>\n",
       "</div>"
      ],
      "text/plain": [
       "                Orthographic Form  Phonetic Form\n",
       "Training Set                    6              5\n",
       "Validation Set                  6              4"
      ]
     },
     "execution_count": 173,
     "metadata": {},
     "output_type": "execute_result"
    }
   ],
   "source": [
    "plateau_data = {'Orthographic Form': [or3_t['avg_plateau_beg'], or3_v['avg_plateau_beg']],\n",
    "                'Phonetic Form': [ph3_t['avg_plateau_beg'], ph3_v['avg_plateau_beg']],\n",
    "                }\n",
    "\n",
    "plateau_results = pd.DataFrame(plateau_data).rename(index={0:'Training Set', 1: 'Validation Set'})\n",
    "plateau_results"
   ]
  }
 ],
 "metadata": {
  "kernelspec": {
   "display_name": "gendered-nouns-project-qJzt9RqZ",
   "language": "python",
   "name": "python3"
  },
  "language_info": {
   "codemirror_mode": {
    "name": "ipython",
    "version": 3
   },
   "file_extension": ".py",
   "mimetype": "text/x-python",
   "name": "python",
   "nbconvert_exporter": "python",
   "pygments_lexer": "ipython3",
   "version": "3.11.6"
  }
 },
 "nbformat": 4,
 "nbformat_minor": 2
}
