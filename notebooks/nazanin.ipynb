{
 "cells": [
  {
   "cell_type": "markdown",
   "metadata": {},
   "source": [
    "LSTM\n",
    "=="
   ]
  },
  {
   "cell_type": "code",
   "execution_count": 1,
   "metadata": {},
   "outputs": [],
   "source": [
    "import torch\n",
    "import torch.nn as nn\n",
    "import torch.optim as optim\n",
    "# from torch.utils.data import Dataset, DataLoader\n",
    "from sklearn.model_selection import train_test_split\n",
    "# from sklearn.metrics import accuracy_score\n",
    "# import numpy as np\n",
    "from random import shuffle"
   ]
  },
  {
   "cell_type": "code",
   "execution_count": 2,
   "metadata": {},
   "outputs": [],
   "source": [
    "filename= '../data/french_clean.txt'"
   ]
  },
  {
   "cell_type": "code",
   "execution_count": 3,
   "metadata": {},
   "outputs": [],
   "source": [
    "def reverse_sequence(nouns):\n",
    "    return [noun[::-1] for noun in nouns]\n",
    "\n",
    "def pad_sequence(sequence,pad_size,pad_token):\n",
    "    #returns a list with additional pad tokens to match pad_size if needed\n",
    "    return sequence + [pad_token] * (pad_size - len(sequence))\n",
    "\n",
    "def code_sequence(charseq,encodingmap,unk_token='<unk>'):\n",
    "    #charseq is a sequence of chars\n",
    "    return [encodingmap[char] if char in encodingmap \n",
    "            else encodingmap[unk_token] for char in charseq]\n",
    "\n",
    "def decode_sequence(idxseq,decodingmap):\n",
    "    #idxseq is a list of integers\n",
    "    return [decodingmap[idx] for idx in idxseq]"
   ]
  },
  {
   "cell_type": "code",
   "execution_count": 4,
   "metadata": {},
   "outputs": [],
   "source": [
    "def read_data(filename):\n",
    "    with open(filename, 'r', encoding='utf-8') as file:\n",
    "        data = [line.strip() for line in file.readlines()]\n",
    "\n",
    "    X, y = [], []\n",
    "    for pair in data:\n",
    "        noun, gender = pair.split(', ')\n",
    "        reversed_noun = reverse_sequence(noun)\n",
    "        X.append(reversed_noun)\n",
    "        y.append(gender)\n",
    "    \n",
    "    return X, y"
   ]
  },
  {
   "cell_type": "code",
   "execution_count": 5,
   "metadata": {},
   "outputs": [],
   "source": [
    "def vocabulary(filename, labels=False, pad_token='<pad>', unk_token='<unk>'):\n",
    "    \n",
    "    nouns, genders = read_data(filename)\n",
    "    \n",
    "    if labels:\n",
    "        sym2idx = {sym: idx for idx, sym in enumerate(set(genders))}\n",
    "    else:\n",
    "        noun_chars = set(''.join(noun) for noun in nouns) # split the nouns into characters\n",
    "        sym2idx = {sym: idx for idx, sym in enumerate(noun_chars)}\n",
    "        sym2idx[pad_token] = len(sym2idx)\n",
    "        sym2idx[unk_token] = len(sym2idx)\n",
    "\n",
    "    idx2sym = {idx: sym for sym, idx in sym2idx.items()}\n",
    "\n",
    "    return idx2sym, sym2idx"
   ]
  },
  {
   "cell_type": "code",
   "execution_count": 6,
   "metadata": {},
   "outputs": [],
   "source": [
    "# Author: Benoit Crabbé (with slight modifications)\n",
    "class DataGenerator:\n",
    "\n",
    "      def __init__(self, filename, pad_token='<pad>', unk_token='<unk>'):\n",
    "\n",
    "          self.pad_token = pad_token\n",
    "          self.unk_token = unk_token\n",
    "\n",
    "          self.input_idx2sym,self.input_sym2idx   = vocabulary(filename,False)\n",
    "          self.output_idx2sym,self.output_sym2idx = vocabulary(filename,True)\n",
    "\n",
    "          nouns, genders = read_data(filename)\n",
    "          self.X_train, self.X_test, self.y_train, self.y_test = train_test_split(nouns, genders, test_size=0.2)\n",
    "\n",
    "      def generate_batches(self,batch_size,validation=False):\n",
    "\n",
    "          if validation:\n",
    "              X = self.X_test\n",
    "              y = self.y_test\n",
    "          else:\n",
    "              X = self.X_train\n",
    "              y = self.y_train\n",
    "\n",
    "          assert(len(X) == len(y))\n",
    "\n",
    "          N     = len(X)\n",
    "          idxes = list(range(N))\n",
    "\n",
    "          # Data ordering\n",
    "          shuffle(idxes)\n",
    "          idxes.sort(key=lambda idx: len(X[idx]))\n",
    "\n",
    "          # batch generation\n",
    "          bstart = 0\n",
    "          while bstart < N:\n",
    "              bend        = min(bstart+batch_size,N)\n",
    "              batch_idxes = idxes[bstart:bend]\n",
    "              batch_len   = max(len(X[idx]) for idx in batch_idxes)\n",
    "              Xpad        = [pad_sequence(X[idx],batch_len,self.pad_token)  for idx in batch_idxes]\n",
    "              seqX        = [code_sequence(x,self.input_sym2idx,self.unk_token) for x in Xpad]\n",
    "              seqY        = [self.output_sym2idx[y[idx]] for idx in batch_idxes]\n",
    "\n",
    "              assert(len(seqX) == len(seqY))\n",
    "              yield (seqX,seqY)\n",
    "              bstart += batch_size"
   ]
  },
  {
   "cell_type": "markdown",
   "metadata": {},
   "source": [
    "Model\n",
    "=="
   ]
  },
  {
   "cell_type": "markdown",
   "metadata": {},
   "source": [
    "Train the model by feeding it words in reverse order (since we want to start from the end of the word) and the corresponding genders. The model will learn to predict the gender based on the characters seen so far.\n",
    "\n",
    "Takes preprocessed words as input:\n",
    "- tokenized into characters \n",
    "- each character mapped to a unique integer id (same with each gender)\n",
    "- sequences should be padded so they all have the same length"
   ]
  },
  {
   "cell_type": "code",
   "execution_count": 9,
   "metadata": {},
   "outputs": [],
   "source": [
    "class GenderLSTM(nn.Module):\n",
    "    def __init__(self, datagenerator, embedding_dim, hidden_dim, device='cpu'):\n",
    "        super(GenderLSTM, self).__init__()\n",
    "        device = torch.device(device)\n",
    "        self.to(device)\n",
    "        invocab_size   = len(datagenerator.input_idx2sym)\n",
    "        outvocab_size  = len(datagenerator.output_idx2sym)\n",
    "        self.embedding = nn.Embedding(invocab_size, embedding_dim)\n",
    "        self.lstm = nn.LSTM(embedding_dim, hidden_dim, batch_first=True)\n",
    "        self.fc = nn.Linear(hidden_dim, outvocab_size)\n",
    "\n",
    "    def forward(self, inputs):\n",
    "        embeds = self.embedding(inputs)\n",
    "        _, (hidden, _) = self.lstm(embeds)\n",
    "        out = self.fc(hidden.squeeze(0))\n",
    "        return out  # shape: (batch_size, num_classes) \n",
    "\n",
    "    def train_model(self, datagenerator, n_epochs, batch_size, learning_rate=0.001, device='cpu'):\n",
    "        device = torch.device(device)\n",
    "        criterion = nn.CrossEntropyLoss()\n",
    "        optimizer = optim.Adam(self.parameters(), lr=learning_rate)\n",
    "\n",
    "        self.avg_train_accuracies = []\n",
    "        self.avg_valid_accuracies = []\n",
    "        self.avg_valid_losses = []\n",
    "        \n",
    "        for epoch in range(n_epochs):\n",
    "            print(f'Epoch: {epoch}')\n",
    "            batch_train_losses = []\n",
    "            batch_train_accuracies = []\n",
    "            batch_dev_losses = []\n",
    "            batch_dev_accuracies = []\n",
    "            \n",
    "            self.train()\n",
    "            for inputs, labels in datagenerator.generate_batches(batch_size):\n",
    "                X = torch.LongTensor(inputs).to(device)\n",
    "                Y = torch.LongTensor(labels).to(device) # shape: (batch_size)\n",
    "\n",
    "                optimizer.zero_grad()\n",
    "                Y_pred = self.forward(X)    # shape: (batch_size, num_classes)\n",
    "                loss = criterion(Y_pred, Y)\n",
    "                loss.backward()\n",
    "                optimizer.step()\n",
    "                batch_train_losses.append(loss.item())\n",
    "\n",
    "                # accuracy computation\n",
    "                pad_idx = datagenerator.input_sym2idx[datagenerator.pad_token]\n",
    "                mask = (Y != pad_idx)   # padding tokens should be ignored when calculating accuracy\n",
    "                Yargmax = torch.argmax(Y_pred,dim=1)\n",
    "                correct = torch.sum((Yargmax == Y) * mask)\n",
    "                total = torch.sum(mask)\n",
    "                train_acc = float(correct)/float(total)\n",
    "                batch_train_accuracies.append(train_acc)\n",
    "\n",
    "            self.eval()\n",
    "            for val_inputs, val_labels in datagenerator.generate_batches(batch_size, validation=True):\n",
    "                with torch.no_grad():\n",
    "                    X_val = torch.LongTensor(val_inputs).to(device)\n",
    "                    Y_val = torch.LongTensor(val_labels).to(device)\n",
    "\n",
    "                    Y_val_pred = self.forward(X_val)\n",
    "                    loss = criterion(Y_val_pred, Y_val)\n",
    "                    batch_dev_losses.append(loss.item())\n",
    "\n",
    "                    # accuracy computation\n",
    "                    mask = (Y_val != pad_idx)\n",
    "                    Yargmax = torch.argmax(Y_val_pred,dim=1)\n",
    "                    correct = torch.sum((Yargmax == Y_val) * mask)\n",
    "                    total = torch.sum(mask)\n",
    "                    dev_acc = float(correct)/float(total)\n",
    "                    batch_dev_accuracies.append(dev_acc)\n",
    "\n",
    "            # store & report metrics at the end of each epoch\n",
    "            avg_train_loss = sum(batch_train_losses) / len(batch_train_losses)\n",
    "            avg_train_acc = sum(batch_train_accuracies) / len(batch_train_accuracies)\n",
    "            avg_dev_loss = sum(batch_dev_losses) / len(batch_dev_losses)\n",
    "            avg_dev_acc = sum(batch_dev_accuracies) / len(batch_dev_accuracies)\n",
    "\n",
    "            self.avg_train_accuracies.append(avg_train_acc)\n",
    "            self.avg_valid_accuracies.append(avg_dev_acc)\n",
    "            self.avg_valid_losses.append(avg_dev_loss)\n",
    "\n",
    "            print(f'Train Loss: {avg_train_loss * 100:.2f}%')\n",
    "            print(f'Train Accuracy: {avg_train_acc * 100:.2f}%')        \n",
    "            print(f'Valid Loss: {avg_dev_loss * 100:.2f}%')\n",
    "            print(f'Valid Accuracy: {avg_dev_acc * 100:.2f}%')\n",
    "            print('-' * 100)\n",
    "\n"
   ]
  },
  {
   "cell_type": "code",
   "execution_count": 10,
   "metadata": {},
   "outputs": [
    {
     "name": "stdout",
     "output_type": "stream",
     "text": [
      "Epoch: 0\n",
      "Train Loss: 39.29%\n",
      "Train Accuracy: 81.93%\n",
      "Valid Loss: 47.41%\n",
      "Valid Accuracy: 80.76%\n",
      "----------------------------------------------------------------------------------------------------\n",
      "Epoch: 1\n",
      "Train Loss: 37.84%\n",
      "Train Accuracy: 82.78%\n",
      "Valid Loss: 47.20%\n",
      "Valid Accuracy: 80.54%\n",
      "----------------------------------------------------------------------------------------------------\n",
      "Epoch: 2\n",
      "Train Loss: 37.22%\n",
      "Train Accuracy: 83.18%\n",
      "Valid Loss: 48.45%\n",
      "Valid Accuracy: 80.53%\n",
      "----------------------------------------------------------------------------------------------------\n",
      "Epoch: 3\n",
      "Train Loss: 36.69%\n",
      "Train Accuracy: 83.48%\n",
      "Valid Loss: 48.48%\n",
      "Valid Accuracy: 80.53%\n",
      "----------------------------------------------------------------------------------------------------\n",
      "Epoch: 4\n",
      "Train Loss: 36.25%\n",
      "Train Accuracy: 83.79%\n",
      "Valid Loss: 48.66%\n",
      "Valid Accuracy: 80.62%\n",
      "----------------------------------------------------------------------------------------------------\n",
      "Epoch: 5\n",
      "Train Loss: 35.76%\n",
      "Train Accuracy: 84.03%\n",
      "Valid Loss: 48.11%\n",
      "Valid Accuracy: 81.18%\n",
      "----------------------------------------------------------------------------------------------------\n",
      "Epoch: 6\n",
      "Train Loss: 35.30%\n",
      "Train Accuracy: 84.19%\n",
      "Valid Loss: 47.13%\n",
      "Valid Accuracy: 81.37%\n",
      "----------------------------------------------------------------------------------------------------\n",
      "Epoch: 7\n",
      "Train Loss: 34.66%\n",
      "Train Accuracy: 84.61%\n",
      "Valid Loss: 47.23%\n",
      "Valid Accuracy: 81.42%\n",
      "----------------------------------------------------------------------------------------------------\n",
      "Epoch: 8\n",
      "Train Loss: 34.07%\n",
      "Train Accuracy: 84.81%\n",
      "Valid Loss: 49.43%\n",
      "Valid Accuracy: 81.33%\n",
      "----------------------------------------------------------------------------------------------------\n",
      "Epoch: 9\n",
      "Train Loss: 33.63%\n",
      "Train Accuracy: 85.01%\n",
      "Valid Loss: 49.21%\n",
      "Valid Accuracy: 81.38%\n",
      "----------------------------------------------------------------------------------------------------\n"
     ]
    }
   ],
   "source": [
    "DEVICE = torch.device('cuda' if torch.cuda.is_available() else 'cpu')\n",
    "embedding_dim = 64\n",
    "hidden_dim = 128\n",
    "n_epochs = 10\n",
    "batch_size = 32\n",
    "\n",
    "data_generator = DataGenerator(filename)\n",
    "model = GenderLSTM(data_generator, embedding_dim, hidden_dim, device=DEVICE)\n",
    "model.train_model(data_generator,n_epochs,batch_size,device=DEVICE)"
   ]
  },
  {
   "cell_type": "code",
   "execution_count": 11,
   "metadata": {},
   "outputs": [],
   "source": [
    "import matplotlib.pyplot as plt\n",
    "\n",
    "def plot(train_acc, valid_acc, valid_losses):\n",
    "\n",
    "    x_axis = range(1, len(valid_losses) + 1)\n",
    "\n",
    "    plt.plot(x_axis ,train_acc, marker='o', label='Training Accuracies')\n",
    "    plt.plot(x_axis, valid_acc, marker='o', label='Validation Accuracies')\n",
    "    plt.plot(x_axis, valid_losses, marker='o', label='Loss')\n",
    "\n",
    "    plt.title('Loss & Accuracy Evolution Over Epochs')\n",
    "    plt.xlabel('Epochs')\n",
    "    plt.legend()\n",
    "    plt.grid(True, linestyle='--')\n",
    "    plt.show()"
   ]
  },
  {
   "cell_type": "code",
   "execution_count": 12,
   "metadata": {},
   "outputs": [
    {
     "data": {
      "image/png": "[encoded data removed]",
      "text/plain": [
       "<Figure size 640x480 with 1 Axes>"
      ]
     },
     "metadata": {},
     "output_type": "display_data"
    }
   ],
   "source": [
    "plot(model.avg_train_accuracies, model.avg_valid_accuracies, model.avg_valid_losses)"
   ]
  },
  {
   "cell_type": "code",
   "execution_count": null,
   "metadata": {},
   "outputs": [],
   "source": [
    "%%capture\n",
    "%pip install GPUtil"
   ]
  },
  {
   "cell_type": "code",
   "execution_count": null,
   "metadata": {},
   "outputs": [
    {
     "name": "stdout",
     "output_type": "stream",
     "text": [
      "No GPU available.\n"
     ]
    }
   ],
   "source": [
    "import GPUtil\n",
    "\n",
    "# Get the list of available GPUs\n",
    "gpus = GPUtil.getGPUs()\n",
    "\n",
    "if not gpus:\n",
    "    print(\"No GPU available.\")\n",
    "else:\n",
    "    for i, gpu in enumerate(gpus):\n",
    "        print(f\"GPU {i + 1}: {gpu.name}\")"
   ]
  }
 ],
 "metadata": {
  "kernelspec": {
   "display_name": "gendered-nouns-project-qJzt9RqZ",
   "language": "python",
   "name": "python3"
  },
  "language_info": {
   "codemirror_mode": {
    "name": "ipython",
    "version": 3
   },
   "file_extension": ".py",
   "mimetype": "text/x-python",
   "name": "python",
   "nbconvert_exporter": "python",
   "pygments_lexer": "ipython3",
   "version": "3.11.6"
  }
 },
 "nbformat": 4,
 "nbformat_minor": 2
}
