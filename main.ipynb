{
 "cells": [
  {
   "cell_type": "code",
   "execution_count": 1,
   "metadata": {},
   "outputs": [],
   "source": [
    "from torch import nn\n",
    "import pandas as pd"
   ]
  },
  {
   "cell_type": "markdown",
   "metadata": {},
   "source": [
    "## Read the data from a csv file\n",
    "\n",
    "we can see that there are 517,176 examples"
   ]
  },
  {
   "cell_type": "code",
   "execution_count": 2,
   "metadata": {},
   "outputs": [
    {
     "data": {
      "text/plain": [
       "(517176, 3)"
      ]
     },
     "execution_count": 2,
     "metadata": {},
     "output_type": "execute_result"
    }
   ],
   "source": [
    "df = pd.read_csv(\"wiktionary_raw.csv\")\n",
    "df.shape"
   ]
  },
  {
   "cell_type": "markdown",
   "metadata": {},
   "source": [
    "## Lowering the text.\n",
    "\n",
    "All nouns are lowercase except for proper nouns across our language set (except for German).\n",
    "Here comes our first decision about cleaning our data. \n",
    "- keep possible duplicates because a difference in capitalization?\n",
    "- Does capitalization matter for German if we are only looking at nouns?\n",
    "- Do we attempt to remove proper nouns (tend to be capitalzed) by checking across a POS tagger?\n",
    "\n",
    "For the time being, we will lower all nouns"
   ]
  },
  {
   "cell_type": "code",
   "execution_count": 3,
   "metadata": {},
   "outputs": [],
   "source": [
    "df[\"noun\"] = df[\"noun\"].str.lower()"
   ]
  },
  {
   "cell_type": "markdown",
   "metadata": {},
   "source": [
    "Duplicates will now be removed; this is done across all languages, genders and nouns.\n",
    "\n",
    "Now we can see our total has dropped down to 378,830 which is a ~ 27% loss"
   ]
  },
  {
   "cell_type": "code",
   "execution_count": 4,
   "metadata": {},
   "outputs": [
    {
     "data": {
      "text/plain": [
       "(378830, 3)"
      ]
     },
     "execution_count": 4,
     "metadata": {},
     "output_type": "execute_result"
    }
   ],
   "source": [
    "# remove dulplicates\n",
    "df_no_dups = df.drop_duplicates()\n",
    "df_no_dups.shape"
   ]
  },
  {
   "cell_type": "markdown",
   "metadata": {},
   "source": [
    "## Split df into smaller dfs for each language"
   ]
  },
  {
   "cell_type": "code",
   "execution_count": 5,
   "metadata": {},
   "outputs": [
    {
     "data": {
      "text/plain": [
       "array(['fr', 'de', 'pl', 'es'], dtype=object)"
      ]
     },
     "execution_count": 5,
     "metadata": {},
     "output_type": "execute_result"
    }
   ],
   "source": [
    "languages = df_no_dups['lang'].unique()\n",
    "languages"
   ]
  },
  {
   "cell_type": "code",
   "execution_count": 6,
   "metadata": {},
   "outputs": [],
   "source": [
    "dataframes = [df_no_dups[df_no_dups['lang'] == lang] for lang in languages]"
   ]
  },
  {
   "cell_type": "markdown",
   "metadata": {},
   "source": [
    "### Display distribution of each language dataset\n",
    "We can see that French has the fewest at 67K nouns, and German the most with 117K.\n"
   ]
  },
  {
   "cell_type": "code",
   "execution_count": 7,
   "metadata": {},
   "outputs": [
    {
     "name": "stdout",
     "output_type": "stream",
     "text": [
      "fr dataframe has 66479 nouns\n",
      "de dataframe has 117755 nouns\n",
      "pl dataframe has 97949 nouns\n",
      "es dataframe has 96647 nouns\n"
     ]
    }
   ],
   "source": [
    "for idx, lang in enumerate(languages):\n",
    "    print(f\"{lang} dataframe has {dataframes[idx].shape[0]} nouns\")"
   ]
  },
  {
   "cell_type": "markdown",
   "metadata": {},
   "source": [
    "### Display distribution by gender for each language"
   ]
  },
  {
   "cell_type": "code",
   "execution_count": 8,
   "metadata": {},
   "outputs": [
    {
     "data": {
      "text/html": [
       "<div>\n",
       "<style scoped>\n",
       "    .dataframe tbody tr th:only-of-type {\n",
       "        vertical-align: middle;\n",
       "    }\n",
       "\n",
       "    .dataframe tbody tr th {\n",
       "        vertical-align: top;\n",
       "    }\n",
       "\n",
       "    .dataframe thead th {\n",
       "        text-align: right;\n",
       "    }\n",
       "</style>\n",
       "<table border=\"1\" class=\"dataframe\">\n",
       "  <thead>\n",
       "    <tr style=\"text-align: right;\">\n",
       "      <th>lang</th>\n",
       "      <th>de</th>\n",
       "      <th>es</th>\n",
       "      <th>fr</th>\n",
       "      <th>pl</th>\n",
       "    </tr>\n",
       "    <tr>\n",
       "      <th>gender</th>\n",
       "      <th></th>\n",
       "      <th></th>\n",
       "      <th></th>\n",
       "      <th></th>\n",
       "    </tr>\n",
       "  </thead>\n",
       "  <tbody>\n",
       "    <tr>\n",
       "      <th>feminine</th>\n",
       "      <td>52551.0</td>\n",
       "      <td>40366.0</td>\n",
       "      <td>27974.0</td>\n",
       "      <td>38193.0</td>\n",
       "    </tr>\n",
       "    <tr>\n",
       "      <th>masculine</th>\n",
       "      <td>24507.0</td>\n",
       "      <td>50604.0</td>\n",
       "      <td>34107.0</td>\n",
       "      <td>42794.0</td>\n",
       "    </tr>\n",
       "    <tr>\n",
       "      <th>neuter</th>\n",
       "      <td>32584.0</td>\n",
       "      <td>NaN</td>\n",
       "      <td>NaN</td>\n",
       "      <td>16836.0</td>\n",
       "    </tr>\n",
       "  </tbody>\n",
       "</table>\n",
       "</div>"
      ],
      "text/plain": [
       "lang            de       es       fr       pl\n",
       "gender                                       \n",
       "feminine   52551.0  40366.0  27974.0  38193.0\n",
       "masculine  24507.0  50604.0  34107.0  42794.0\n",
       "neuter     32584.0      NaN      NaN  16836.0"
      ]
     },
     "execution_count": 8,
     "metadata": {},
     "output_type": "execute_result"
    }
   ],
   "source": [
    "new_df = pd.concat(dataframes)\n",
    "\n",
    "new_df.groupby(['gender','lang']).size().unstack()"
   ]
  },
  {
   "cell_type": "markdown",
   "metadata": {},
   "source": [
    "The lowest gender is neuter for Polish with 16,939 nouns"
   ]
  },
  {
   "cell_type": "code",
   "execution_count": 9,
   "metadata": {},
   "outputs": [
    {
     "data": {
      "text/plain": [
       "16836"
      ]
     },
     "execution_count": 9,
     "metadata": {},
     "output_type": "execute_result"
    }
   ],
   "source": [
    "grouped = new_df.groupby(['gender','lang']).size().unstack()\n",
    "lowest_value = int(grouped.min().min())\n",
    "lowest_value"
   ]
  },
  {
   "cell_type": "markdown",
   "metadata": {},
   "source": [
    "## French Data"
   ]
  },
  {
   "cell_type": "code",
   "execution_count": 13,
   "metadata": {},
   "outputs": [
    {
     "data": {
      "text/html": [
       "<div>\n",
       "<style scoped>\n",
       "    .dataframe tbody tr th:only-of-type {\n",
       "        vertical-align: middle;\n",
       "    }\n",
       "\n",
       "    .dataframe tbody tr th {\n",
       "        vertical-align: top;\n",
       "    }\n",
       "\n",
       "    .dataframe thead th {\n",
       "        text-align: right;\n",
       "    }\n",
       "</style>\n",
       "<table border=\"1\" class=\"dataframe\">\n",
       "  <thead>\n",
       "    <tr style=\"text-align: right;\">\n",
       "      <th></th>\n",
       "      <th>noun</th>\n",
       "      <th>gender</th>\n",
       "      <th>lang</th>\n",
       "    </tr>\n",
       "  </thead>\n",
       "  <tbody>\n",
       "    <tr>\n",
       "      <th>0</th>\n",
       "      <td>ak-47</td>\n",
       "      <td>NaN</td>\n",
       "      <td>fr</td>\n",
       "    </tr>\n",
       "    <tr>\n",
       "      <th>1</th>\n",
       "      <td>akua-ba</td>\n",
       "      <td>NaN</td>\n",
       "      <td>fr</td>\n",
       "    </tr>\n",
       "    <tr>\n",
       "      <th>2</th>\n",
       "      <td>alvéole</td>\n",
       "      <td>NaN</td>\n",
       "      <td>fr</td>\n",
       "    </tr>\n",
       "    <tr>\n",
       "      <th>3</th>\n",
       "      <td>ambage</td>\n",
       "      <td>NaN</td>\n",
       "      <td>fr</td>\n",
       "    </tr>\n",
       "    <tr>\n",
       "      <th>4</th>\n",
       "      <td>ambages</td>\n",
       "      <td>NaN</td>\n",
       "      <td>fr</td>\n",
       "    </tr>\n",
       "    <tr>\n",
       "      <th>...</th>\n",
       "      <td>...</td>\n",
       "      <td>...</td>\n",
       "      <td>...</td>\n",
       "    </tr>\n",
       "    <tr>\n",
       "      <th>517171</th>\n",
       "      <td>zythophile</td>\n",
       "      <td>masculine</td>\n",
       "      <td>fr</td>\n",
       "    </tr>\n",
       "    <tr>\n",
       "      <th>517172</th>\n",
       "      <td>zythum</td>\n",
       "      <td>masculine</td>\n",
       "      <td>fr</td>\n",
       "    </tr>\n",
       "    <tr>\n",
       "      <th>517173</th>\n",
       "      <td>zyzel</td>\n",
       "      <td>masculine</td>\n",
       "      <td>fr</td>\n",
       "    </tr>\n",
       "    <tr>\n",
       "      <th>517174</th>\n",
       "      <td>zāy</td>\n",
       "      <td>masculine</td>\n",
       "      <td>fr</td>\n",
       "    </tr>\n",
       "    <tr>\n",
       "      <th>517175</th>\n",
       "      <td>ḫuwawa</td>\n",
       "      <td>masculine</td>\n",
       "      <td>fr</td>\n",
       "    </tr>\n",
       "  </tbody>\n",
       "</table>\n",
       "<p>66479 rows × 3 columns</p>\n",
       "</div>"
      ],
      "text/plain": [
       "              noun     gender lang\n",
       "0            ak-47        NaN   fr\n",
       "1          akua-ba        NaN   fr\n",
       "2          alvéole        NaN   fr\n",
       "3           ambage        NaN   fr\n",
       "4          ambages        NaN   fr\n",
       "...            ...        ...  ...\n",
       "517171  zythophile  masculine   fr\n",
       "517172      zythum  masculine   fr\n",
       "517173       zyzel  masculine   fr\n",
       "517174         zāy  masculine   fr\n",
       "517175      ḫuwawa  masculine   fr\n",
       "\n",
       "[66479 rows x 3 columns]"
      ]
     },
     "execution_count": 13,
     "metadata": {},
     "output_type": "execute_result"
    }
   ],
   "source": [
    "fr_df = dataframes[0]\n",
    "fr_df"
   ]
  },
  {
   "cell_type": "code",
   "execution_count": 17,
   "metadata": {},
   "outputs": [
    {
     "data": {
      "text/html": [
       "<div>\n",
       "<style scoped>\n",
       "    .dataframe tbody tr th:only-of-type {\n",
       "        vertical-align: middle;\n",
       "    }\n",
       "\n",
       "    .dataframe tbody tr th {\n",
       "        vertical-align: top;\n",
       "    }\n",
       "\n",
       "    .dataframe thead th {\n",
       "        text-align: right;\n",
       "    }\n",
       "</style>\n",
       "<table border=\"1\" class=\"dataframe\">\n",
       "  <thead>\n",
       "    <tr style=\"text-align: right;\">\n",
       "      <th></th>\n",
       "      <th>noun</th>\n",
       "      <th>gender</th>\n",
       "      <th>lang</th>\n",
       "    </tr>\n",
       "  </thead>\n",
       "  <tbody>\n",
       "    <tr>\n",
       "      <th>2</th>\n",
       "      <td>alvéole</td>\n",
       "      <td>NaN</td>\n",
       "      <td>fr</td>\n",
       "    </tr>\n",
       "    <tr>\n",
       "      <th>3</th>\n",
       "      <td>ambage</td>\n",
       "      <td>NaN</td>\n",
       "      <td>fr</td>\n",
       "    </tr>\n",
       "    <tr>\n",
       "      <th>4</th>\n",
       "      <td>ambages</td>\n",
       "      <td>NaN</td>\n",
       "      <td>fr</td>\n",
       "    </tr>\n",
       "    <tr>\n",
       "      <th>5</th>\n",
       "      <td>ammocètes</td>\n",
       "      <td>NaN</td>\n",
       "      <td>fr</td>\n",
       "    </tr>\n",
       "    <tr>\n",
       "      <th>6</th>\n",
       "      <td>aphrodite</td>\n",
       "      <td>NaN</td>\n",
       "      <td>fr</td>\n",
       "    </tr>\n",
       "    <tr>\n",
       "      <th>...</th>\n",
       "      <td>...</td>\n",
       "      <td>...</td>\n",
       "      <td>...</td>\n",
       "    </tr>\n",
       "    <tr>\n",
       "      <th>517171</th>\n",
       "      <td>zythophile</td>\n",
       "      <td>masculine</td>\n",
       "      <td>fr</td>\n",
       "    </tr>\n",
       "    <tr>\n",
       "      <th>517172</th>\n",
       "      <td>zythum</td>\n",
       "      <td>masculine</td>\n",
       "      <td>fr</td>\n",
       "    </tr>\n",
       "    <tr>\n",
       "      <th>517173</th>\n",
       "      <td>zyzel</td>\n",
       "      <td>masculine</td>\n",
       "      <td>fr</td>\n",
       "    </tr>\n",
       "    <tr>\n",
       "      <th>517174</th>\n",
       "      <td>zāy</td>\n",
       "      <td>masculine</td>\n",
       "      <td>fr</td>\n",
       "    </tr>\n",
       "    <tr>\n",
       "      <th>517175</th>\n",
       "      <td>ḫuwawa</td>\n",
       "      <td>masculine</td>\n",
       "      <td>fr</td>\n",
       "    </tr>\n",
       "  </tbody>\n",
       "</table>\n",
       "<p>54778 rows × 3 columns</p>\n",
       "</div>"
      ],
      "text/plain": [
       "              noun     gender lang\n",
       "2          alvéole        NaN   fr\n",
       "3           ambage        NaN   fr\n",
       "4          ambages        NaN   fr\n",
       "5        ammocètes        NaN   fr\n",
       "6        aphrodite        NaN   fr\n",
       "...            ...        ...  ...\n",
       "517171  zythophile  masculine   fr\n",
       "517172      zythum  masculine   fr\n",
       "517173       zyzel  masculine   fr\n",
       "517174         zāy  masculine   fr\n",
       "517175      ḫuwawa  masculine   fr\n",
       "\n",
       "[54778 rows x 3 columns]"
      ]
     },
     "execution_count": 17,
     "metadata": {},
     "output_type": "execute_result"
    }
   ],
   "source": [
    "filtered = fr_df[(~fr_df['noun'].str.contains('-| |\\.|1|2|3|4|5|6|7|8|9|0'))]\n",
    "filtered"
   ]
  },
  {
   "cell_type": "code",
   "execution_count": 18,
   "metadata": {},
   "outputs": [
    {
     "data": {
      "text/html": [
       "<div>\n",
       "<style scoped>\n",
       "    .dataframe tbody tr th:only-of-type {\n",
       "        vertical-align: middle;\n",
       "    }\n",
       "\n",
       "    .dataframe tbody tr th {\n",
       "        vertical-align: top;\n",
       "    }\n",
       "\n",
       "    .dataframe thead th {\n",
       "        text-align: right;\n",
       "    }\n",
       "</style>\n",
       "<table border=\"1\" class=\"dataframe\">\n",
       "  <thead>\n",
       "    <tr style=\"text-align: right;\">\n",
       "      <th></th>\n",
       "      <th>noun</th>\n",
       "      <th>gender</th>\n",
       "      <th>lang</th>\n",
       "    </tr>\n",
       "  </thead>\n",
       "  <tbody>\n",
       "    <tr>\n",
       "      <th>85</th>\n",
       "      <td>abandonnataire</td>\n",
       "      <td>feminine</td>\n",
       "      <td>fr</td>\n",
       "    </tr>\n",
       "    <tr>\n",
       "      <th>86</th>\n",
       "      <td>abélite</td>\n",
       "      <td>feminine</td>\n",
       "      <td>fr</td>\n",
       "    </tr>\n",
       "    <tr>\n",
       "      <th>87</th>\n",
       "      <td>abkhaze</td>\n",
       "      <td>feminine</td>\n",
       "      <td>fr</td>\n",
       "    </tr>\n",
       "    <tr>\n",
       "      <th>88</th>\n",
       "      <td>ablon</td>\n",
       "      <td>feminine</td>\n",
       "      <td>fr</td>\n",
       "    </tr>\n",
       "    <tr>\n",
       "      <th>89</th>\n",
       "      <td>abolitioniste</td>\n",
       "      <td>feminine</td>\n",
       "      <td>fr</td>\n",
       "    </tr>\n",
       "    <tr>\n",
       "      <th>...</th>\n",
       "      <td>...</td>\n",
       "      <td>...</td>\n",
       "      <td>...</td>\n",
       "    </tr>\n",
       "    <tr>\n",
       "      <th>517171</th>\n",
       "      <td>zythophile</td>\n",
       "      <td>masculine</td>\n",
       "      <td>fr</td>\n",
       "    </tr>\n",
       "    <tr>\n",
       "      <th>517172</th>\n",
       "      <td>zythum</td>\n",
       "      <td>masculine</td>\n",
       "      <td>fr</td>\n",
       "    </tr>\n",
       "    <tr>\n",
       "      <th>517173</th>\n",
       "      <td>zyzel</td>\n",
       "      <td>masculine</td>\n",
       "      <td>fr</td>\n",
       "    </tr>\n",
       "    <tr>\n",
       "      <th>517174</th>\n",
       "      <td>zāy</td>\n",
       "      <td>masculine</td>\n",
       "      <td>fr</td>\n",
       "    </tr>\n",
       "    <tr>\n",
       "      <th>517175</th>\n",
       "      <td>ḫuwawa</td>\n",
       "      <td>masculine</td>\n",
       "      <td>fr</td>\n",
       "    </tr>\n",
       "  </tbody>\n",
       "</table>\n",
       "<p>50705 rows × 3 columns</p>\n",
       "</div>"
      ],
      "text/plain": [
       "                  noun     gender lang\n",
       "85      abandonnataire   feminine   fr\n",
       "86             abélite   feminine   fr\n",
       "87             abkhaze   feminine   fr\n",
       "88               ablon   feminine   fr\n",
       "89       abolitioniste   feminine   fr\n",
       "...                ...        ...  ...\n",
       "517171      zythophile  masculine   fr\n",
       "517172          zythum  masculine   fr\n",
       "517173           zyzel  masculine   fr\n",
       "517174             zāy  masculine   fr\n",
       "517175          ḫuwawa  masculine   fr\n",
       "\n",
       "[50705 rows x 3 columns]"
      ]
     },
     "execution_count": 18,
     "metadata": {},
     "output_type": "execute_result"
    }
   ],
   "source": [
    "df = filtered.dropna()\n",
    "df"
   ]
  },
  {
   "cell_type": "code",
   "execution_count": 19,
   "metadata": {},
   "outputs": [
    {
     "data": {
      "text/plain": [
       "array(['feminine', 'masculine'], dtype=object)"
      ]
     },
     "execution_count": 19,
     "metadata": {},
     "output_type": "execute_result"
    }
   ],
   "source": [
    "labels = df['gender'].unique()\n",
    "labels"
   ]
  },
  {
   "cell_type": "code",
   "execution_count": 34,
   "metadata": {},
   "outputs": [],
   "source": [
    "d = {n: l for n, l in zip(df['noun'], df['gender'])}\n",
    "with open('french_clean.txt', 'w') as f:\n",
    "    for k, v in d.items():\n",
    "        f.write(f\"{k}, {v}\\n\")"
   ]
  },
  {
   "cell_type": "code",
   "execution_count": null,
   "metadata": {},
   "outputs": [],
   "source": []
  }
 ],
 "metadata": {
  "kernelspec": {
   "display_name": "gendered-nouns-project-IHYtSdGs",
   "language": "python",
   "name": "python3"
  },
  "language_info": {
   "codemirror_mode": {
    "name": "ipython",
    "version": 3
   },
   "file_extension": ".py",
   "mimetype": "text/x-python",
   "name": "python",
   "nbconvert_exporter": "python",
   "pygments_lexer": "ipython3",
   "version": "3.10.12"
  }
 },
 "nbformat": 4,
 "nbformat_minor": 2
}
