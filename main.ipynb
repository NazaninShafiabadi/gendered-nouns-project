{
 "cells": [
  {
   "cell_type": "code",
   "execution_count": 1,
   "metadata": {},
   "outputs": [],
   "source": [
    "from torch import nn\n",
    "import pandas as pd"
   ]
  },
  {
   "cell_type": "markdown",
   "metadata": {},
   "source": [
    "## Read the data from a csv file\n",
    "\n",
    "we can see that there are 517,176 examples"
   ]
  },
  {
   "cell_type": "code",
   "execution_count": 13,
   "metadata": {},
   "outputs": [
    {
     "data": {
      "text/plain": [
       "(517176, 3)"
      ]
     },
     "execution_count": 13,
     "metadata": {},
     "output_type": "execute_result"
    }
   ],
   "source": [
    "df = pd.read_csv(\"wiktionary_raw.csv\")\n",
    "df.shape"
   ]
  },
  {
   "cell_type": "markdown",
   "metadata": {},
   "source": [
    "## Lowering the text.\n",
    "\n",
    "All nouns are lowercase except for proper nouns across our language set (except for German).\n",
    "Here comes our first decision about cleaning our data. \n",
    "- keep possible duplicates because a difference in capitalization?\n",
    "- Does capitalization matter for German if we are only looking at nouns?\n",
    "- Do we attempt to remove proper nouns (tend to be capitalzed) by checking across a POS tagger?\n",
    "\n",
    "For the time being, we will lower all nouns"
   ]
  },
  {
   "cell_type": "code",
   "execution_count": 17,
   "metadata": {},
   "outputs": [],
   "source": [
    "df[\"noun\"] = df[\"noun\"].str.lower()"
   ]
  },
  {
   "cell_type": "markdown",
   "metadata": {},
   "source": [
    "Duplicates will now be removed; this is done across all languages, genders and nouns.\n",
    "\n",
    "Now we can see our total has dropped down to 378,830 which is a ~ 27% loss"
   ]
  },
  {
   "cell_type": "code",
   "execution_count": 16,
   "metadata": {},
   "outputs": [
    {
     "data": {
      "text/plain": [
       "(378830, 3)"
      ]
     },
     "execution_count": 16,
     "metadata": {},
     "output_type": "execute_result"
    }
   ],
   "source": [
    "# remove dulplicates\n",
    "df_no_dups = df.drop_duplicates()\n",
    "df_no_dups.shape"
   ]
  },
  {
   "cell_type": "markdown",
   "metadata": {},
   "source": [
    "## Split df into smaller dfs for each language"
   ]
  },
  {
   "cell_type": "code",
   "execution_count": 5,
   "metadata": {},
   "outputs": [
    {
     "data": {
      "text/plain": [
       "array(['fr', 'de', 'pl', 'es'], dtype=object)"
      ]
     },
     "execution_count": 5,
     "metadata": {},
     "output_type": "execute_result"
    }
   ],
   "source": [
    "languages = df_no_dups['lang'].unique()\n",
    "languages"
   ]
  },
  {
   "cell_type": "code",
   "execution_count": 6,
   "metadata": {},
   "outputs": [],
   "source": [
    "dataframes = [df_no_dups[df_no_dups['lang'] == lang] for lang in languages]"
   ]
  },
  {
   "cell_type": "markdown",
   "metadata": {},
   "source": [
    "### Display distribution of each language dataset\n",
    "We can see that French has the fewest at 67K nouns, and German the most with 117K.\n"
   ]
  },
  {
   "cell_type": "code",
   "execution_count": 20,
   "metadata": {},
   "outputs": [
    {
     "name": "stdout",
     "output_type": "stream",
     "text": [
      "fr dataframe has 67349 nouns\n",
      "de dataframe has 117928 nouns\n",
      "pl dataframe has 100593 nouns\n",
      "es dataframe has 97743 nouns\n"
     ]
    }
   ],
   "source": [
    "for idx, lang in enumerate(languages):\n",
    "    print(f\"{lang} dataframe has {dataframes[idx].shape[0]} nouns\")"
   ]
  },
  {
   "cell_type": "markdown",
   "metadata": {},
   "source": [
    "### Display distribution by gender for each language"
   ]
  },
  {
   "cell_type": "code",
   "execution_count": 26,
   "metadata": {},
   "outputs": [
    {
     "data": {
      "text/html": [
       "<div>\n",
       "<style scoped>\n",
       "    .dataframe tbody tr th:only-of-type {\n",
       "        vertical-align: middle;\n",
       "    }\n",
       "\n",
       "    .dataframe tbody tr th {\n",
       "        vertical-align: top;\n",
       "    }\n",
       "\n",
       "    .dataframe thead th {\n",
       "        text-align: right;\n",
       "    }\n",
       "</style>\n",
       "<table border=\"1\" class=\"dataframe\">\n",
       "  <thead>\n",
       "    <tr style=\"text-align: right;\">\n",
       "      <th>lang</th>\n",
       "      <th>de</th>\n",
       "      <th>es</th>\n",
       "      <th>fr</th>\n",
       "      <th>pl</th>\n",
       "    </tr>\n",
       "    <tr>\n",
       "      <th>gender</th>\n",
       "      <th></th>\n",
       "      <th></th>\n",
       "      <th></th>\n",
       "      <th></th>\n",
       "    </tr>\n",
       "  </thead>\n",
       "  <tbody>\n",
       "    <tr>\n",
       "      <th>feminine</th>\n",
       "      <td>52613.0</td>\n",
       "      <td>40864.0</td>\n",
       "      <td>28231.0</td>\n",
       "      <td>39009.0</td>\n",
       "    </tr>\n",
       "    <tr>\n",
       "      <th>masculine</th>\n",
       "      <td>24532.0</td>\n",
       "      <td>51187.0</td>\n",
       "      <td>34687.0</td>\n",
       "      <td>44517.0</td>\n",
       "    </tr>\n",
       "    <tr>\n",
       "      <th>neuter</th>\n",
       "      <td>32664.0</td>\n",
       "      <td>NaN</td>\n",
       "      <td>NaN</td>\n",
       "      <td>16939.0</td>\n",
       "    </tr>\n",
       "  </tbody>\n",
       "</table>\n",
       "</div>"
      ],
      "text/plain": [
       "lang            de       es       fr       pl\n",
       "gender                                       \n",
       "feminine   52613.0  40864.0  28231.0  39009.0\n",
       "masculine  24532.0  51187.0  34687.0  44517.0\n",
       "neuter     32664.0      NaN      NaN  16939.0"
      ]
     },
     "execution_count": 26,
     "metadata": {},
     "output_type": "execute_result"
    }
   ],
   "source": [
    "new_df = pd.concat(dataframes)\n",
    "\n",
    "new_df.groupby(['gender','lang']).size().unstack()"
   ]
  },
  {
   "cell_type": "markdown",
   "metadata": {},
   "source": [
    "The lowest gender is neuter for Polish with 16,939 nouns"
   ]
  },
  {
   "cell_type": "code",
   "execution_count": 25,
   "metadata": {},
   "outputs": [
    {
     "data": {
      "text/plain": [
       "16939"
      ]
     },
     "execution_count": 25,
     "metadata": {},
     "output_type": "execute_result"
    }
   ],
   "source": [
    "grouped = new_df.groupby(['gender','lang']).size().unstack()\n",
    "lowest_value = int(grouped.min().min())\n",
    "lowest_value"
   ]
  },
  {
   "cell_type": "code",
   "execution_count": null,
   "metadata": {},
   "outputs": [],
   "source": []
  }
 ],
 "metadata": {
  "kernelspec": {
   "display_name": "gendered-nouns-project-IHYtSdGs",
   "language": "python",
   "name": "python3"
  },
  "language_info": {
   "codemirror_mode": {
    "name": "ipython",
    "version": 3
   },
   "file_extension": ".py",
   "mimetype": "text/x-python",
   "name": "python",
   "nbconvert_exporter": "python",
   "pygments_lexer": "ipython3",
   "version": "3.10.12"
  }
 },
 "nbformat": 4,
 "nbformat_minor": 2
}
